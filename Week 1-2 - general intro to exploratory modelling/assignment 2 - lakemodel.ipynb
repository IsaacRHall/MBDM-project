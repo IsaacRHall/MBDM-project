{
 "cells": [
  {
   "cell_type": "markdown",
   "source": [
    "## 2. Lake model: Exploring the behavior of a decision-making system\n",
    "\n",
    "Explore the lake problem, connect it to the workbench, investigate system behavior, analyze trade-offs, and learn about parallelization.\n",
    "\n",
    "See also [this general introduction to the workbench](https://waterprogramming.wordpress.com/2017/11/01/using-the-exploratory-modelling-workbench/) as a source of inspiration for completing the assignment below\n",
    "\n",
    "### Overview of this notebook\n",
    "- Learn about the Lake Problem, a decision-making example about pollution management\n",
    "  - Connect the Python implementation of the lake model to the EMA workbench\n",
    "  - Define and explore uncertainties and decision levers in the model\n",
    "- Investigate the behavior of the system under various scenarios and policies\n",
    "  - Visualize and analyze trade-offs between outcomes\n",
    "- Experiment with parallelization techniques to improve computational efficiency"
   ],
   "metadata": {
    "collapsed": false
   }
  },
  {
   "cell_type": "markdown",
   "metadata": {},
   "source": [
    "### The Lake model\n",
    "The exploratory modeling workbench includes an [examples folder](https://github.com/quaquel/EMAworkbench/tree/master/ema_workbench/examples). This folder contains a variety of examples that demonstrate the functionality of the workbench. Many of these examples have been drawn from published cases. Here, we use the Lake Problem as an example for demonstrating some of the key functionality of the workbench.\n",
    "\n",
    "We demonstrate some of the key capabilities of the exploratory modeling workbench using the Lake problem. The lake problem is a stylized and hypothetical decision problem where the population of a city has to decide on the amount of annual pollution it will put into a lake. It the pollution in the lake passes a threshold, it will suffer irreversible eutrophication (nutrient overenrichment).\n",
    "\n",
    "#### Model\n",
    "This can be modeled as a system of ordinary differential equations (ODEs) as follows:\n",
    "\n",
    "\\begin{equation}\n",
    "    X_{(t+1)}=X_t+a_t+\\frac{(X_t^q)}{(1+X_t^q )}- bX_t+\\epsilon_t\n",
    "\\end{equation}\n",
    "\n",
    "where\n",
    " - $X_t$ is the pollution at time $t$\n",
    " - $a_t$ is the rate of anthropogenic pollution at time $t$\n",
    " - $b$ is the lake’s natural removal rate\n",
    " - $q$ is the lake's natural recycling rate\n",
    " - $\\epsilon_t$ is the rate of natural pollution at time $t$.\n",
    "\n",
    "The rate of anthropogenic pollution $a_t$ is the decision variable and is somewhere between 0, and 0.1. So $a_t \\in [0,0.1]$. The natural pollution $\\epsilon_t$ is modeled, following Singh et al. (2015), as a log normal distribution with mean $\\mu$ and standard deviation $\\sigma$.\n",
    "\n",
    "\n",
    "#### Outcomes\n",
    "There are four outcomes of interest.\n",
    " 1. The first is the average concentration of phosphor in the lake.\n",
    "\n",
    "\\begin{equation}\n",
    "    f_{phosphorus}=  \\frac{1}{\\left\\vert{T}\\right\\vert} \\sum\\limits_{t\\in{T}} X_t \n",
    "\\end{equation}\n",
    "\n",
    "   where $\\left\\vert{T}\\right\\vert$ is the cardinality of the set of points in time.\n",
    "\n",
    " 2. The second objective is the economic benefit derived from polluting the lake. Following Singh et al. (2015), this is defined as the discounted benefit of pollution mines the costs of having a polluted lake\n",
    "\n",
    "\\begin{equation}\n",
    "    f_{economic} = \\sum\\limits_{t \\in {T}}\\alpha a_t \\delta^t \n",
    "\\end{equation}\n",
    "\n",
    "   where $\\alpha$ is the utility derived from polluting and $\\delta$ is the discount rate. By default, $\\alpha$ is 0.04.\n",
    "\n",
    "  3. The third objective is related to the year-over-year change in the anthropogenic pollution rate.\n",
    "\n",
    "\\begin{equation}\n",
    "    f_{inertia} =\\frac{1}{\\left\\vert{T}\\right\\vert-1} \\sum\\limits_{t=1}^{\\left\\vert{T}\\right\\vert} I(|a_{t}-a_{t-1} |>\\tau)   \n",
    "\\end{equation}\n",
    "\n",
    "   where $I$ is an indicator function that is 0 if the statement is false, and 1 if the statement is true, $\\tau$ is the threshold that is deemed undesirable, and is for illustrative purposes et to 0.2. Effectively, f_{inertia} is the fraction of years when the absolute value of the change in anthropogenic pollution is larger then $\\tau$.\n",
    "\n",
    " 4. The fourth objective is the fraction of years when the pollution in the lake is below the critical threshold.\n",
    "\n",
    "\\begin{equation}\n",
    "    f_{reliability} =  \\frac{1}{\\left\\vert{T}\\right\\vert} \\sum\\limits_{t \\in T}I(X_{t}<X_{crit} ) \n",
    "\\end{equation}\n",
    "\n",
    "   where $I$ is an indicator function that is 0 if the statement is false, and 1 if the statement is true, $X_{crit}$ is the critical threshold of pollution and is a function of both $b$ and $q$.\n",
    "\n",
    "#### Uncertainty\n",
    "The lake problem is characterized by both stochastic uncertainty and deep uncertainty.\n",
    " - The stochastic uncertainty arises from the natural inflow. To reduce this stochastic uncertainty, multiple replications are performed and the average over the replications is taken.\n",
    " - Deep uncertainty is presented by uncertainty about the mean $\\mu$ and standard deviation $\\sigma$ of the lognormal distribution characterizing the natural inflow, the natural removal rate of the lake $\\beta$, the natural recycling rate of the lake $q$, and the discount rate $\\delta$. The table below specifies the ranges for the deeply uncertain factors, as well as their best estimate or default values."
   ]
  },
  {
   "cell_type": "markdown",
   "source": [
    "### Assignment\n",
    "_If you at any moment get stuck on this assignment, the [General Introduction](https://emaworkbench.readthedocs.io/en/latest/indepth_tutorial/general-introduction.html) of the EMAworkbench is a good source of inspiration._\n",
    "\n",
    "1. Given the Python implementation of the lake problem in [`lakemodel_function.py`](lakemodel_function.py), adapt this code and connect it to the workbench.\n",
    "\n",
    "For the uncertainties, use the following table\n",
    "\n",
    "|Parameter\t|Range\t        |Default value|\n",
    "|-----------|--------------:|------------:|\n",
    "|$\\mu$    \t|0.01 – 0.05\t|0.02         |\n",
    "|$\\sigma$\t|0.001 – 0.005 \t|0.0017       |\n",
    "|$b$      \t|0.1 – 0.45\t    |0.42         |\n",
    "|$q$\t    |2 – 4.5\t    |2            |\n",
    "|$\\delta$\t|0.93 – 0.99\t|0.98         |\n",
    "\n",
    "For now, assume that for each year a release decision is made. The release is between 0 and 0.1. Carefully look at line 24 in `lakemodel_function.py` to identify the name to use for each lever."
   ],
   "metadata": {
    "collapsed": false
   }
  },
  {
   "cell_type": "code",
   "execution_count": 44,
   "metadata": {
    "ExecuteTime": {
     "end_time": "2024-04-25T14:23:23.779999200Z",
     "start_time": "2024-04-25T14:23:23.681704500Z"
    }
   },
   "outputs": [],
   "source": [
    "from lakemodel_function import lake_problem\n",
    "from ema_workbench import Model, RealParameter, ScalarOutcome, Constant\n",
    "\n",
    "# Instantiate the model\n",
    "model = Model('lakeModel', function=lake_problem)\n",
    "\n",
    "# Specify uncertainties\n",
    "model.uncertainties = [\n",
    "    RealParameter('mean', 0.01, 0.05),\n",
    "    RealParameter('stdev', 0.001, 0.005),\n",
    "    RealParameter('b', 0.1, 0.45),\n",
    "    RealParameter('q', 2, 4.5),\n",
    "    RealParameter('delta', 0.93, 0.99)\n",
    "]\n",
    "\n",
    "# Set levers, one for each time step\n",
    "model.levers = [\n",
    "    RealParameter(f\"L{i}\", 0, 0.1) for i in range(100)  # Adjust according to the actual variable name used in \n",
    "]\n",
    "\n",
    "    \n",
    "\n",
    "# Specify outcomes\n",
    "model.outcomes = [\n",
    "    ScalarOutcome('f_phosphorus'),\n",
    "    ScalarOutcome('f_economic'),\n",
    "    ScalarOutcome('f_inertia'),\n",
    "    ScalarOutcome('f_reliability')\n",
    "]\n",
    "\n",
    "# Set constants, if there are any parameters that always hold the same value\n",
    "model.constants = [\n",
    "    Constant('alpha', 0.04)  # Example: constant alpha used in economic outcome calculation\n",
    "]"
   ]
  },
  {
   "cell_type": "code",
   "execution_count": 45,
   "outputs": [
    {
     "name": "stderr",
     "output_type": "stream",
     "text": [
      "\n",
      "  0%|                                                  | 0/200 [00:00<?, ?it/s]\u001B[Alake_problem() got an unexpected keyword argument 'L0'\n",
      "Traceback (most recent call last):\n",
      "  File \"C:\\Users\\31646\\anaconda3\\Lib\\site-packages\\ema_workbench\\em_framework\\experiment_runner.py\", line 92, in run_experiment\n",
      "    model.run_model(scenario, policy)\n",
      "  File \"C:\\Users\\31646\\anaconda3\\Lib\\site-packages\\ema_workbench\\util\\ema_logging.py\", line 153, in wrapper\n",
      "    res = func(*args, **kwargs)\n",
      "          ^^^^^^^^^^^^^^^^^^^^^\n",
      "  File \"C:\\Users\\31646\\anaconda3\\Lib\\site-packages\\ema_workbench\\em_framework\\model.py\", line 347, in run_model\n",
      "    outputs = self.run_experiment(experiment)\n",
      "              ^^^^^^^^^^^^^^^^^^^^^^^^^^^^^^^\n",
      "  File \"C:\\Users\\31646\\anaconda3\\Lib\\site-packages\\ema_workbench\\util\\ema_logging.py\", line 153, in wrapper\n",
      "    res = func(*args, **kwargs)\n",
      "          ^^^^^^^^^^^^^^^^^^^^^\n",
      "  File \"C:\\Users\\31646\\anaconda3\\Lib\\site-packages\\ema_workbench\\em_framework\\model.py\", line 400, in run_experiment\n",
      "    model_output = self.function(**experiment)\n",
      "                   ^^^^^^^^^^^^^^^^^^^^^^^^^^^\n",
      "TypeError: lake_problem() got an unexpected keyword argument 'L0'\n"
     ]
    },
    {
     "ename": "EMAError",
     "evalue": "Exception in run_model\nCaused by: TypeError: lake_problem() got an unexpected keyword argument 'L0'",
     "output_type": "error",
     "traceback": [
      "\u001B[1;31m---------------------------------------------------------------------------\u001B[0m",
      "\u001B[1;31mTypeError\u001B[0m                                 Traceback (most recent call last)",
      "File \u001B[1;32m~\\anaconda3\\Lib\\site-packages\\ema_workbench\\em_framework\\experiment_runner.py:92\u001B[0m, in \u001B[0;36mExperimentRunner.run_experiment\u001B[1;34m(self, experiment)\u001B[0m\n\u001B[0;32m     91\u001B[0m \u001B[38;5;28;01mtry\u001B[39;00m:\n\u001B[1;32m---> 92\u001B[0m     model\u001B[38;5;241m.\u001B[39mrun_model(scenario, policy)\n\u001B[0;32m     93\u001B[0m \u001B[38;5;28;01mexcept\u001B[39;00m CaseError \u001B[38;5;28;01mas\u001B[39;00m e:\n",
      "File \u001B[1;32m~\\anaconda3\\Lib\\site-packages\\ema_workbench\\util\\ema_logging.py:153\u001B[0m, in \u001B[0;36mmethod_logger.<locals>.real_decorator.<locals>.wrapper\u001B[1;34m(*args, **kwargs)\u001B[0m\n\u001B[0;32m    152\u001B[0m logger\u001B[38;5;241m.\u001B[39mdebug(\u001B[38;5;124mf\u001B[39m\u001B[38;5;124m\"\u001B[39m\u001B[38;5;124mcalling \u001B[39m\u001B[38;5;132;01m{\u001B[39;00mfunc\u001B[38;5;241m.\u001B[39m\u001B[38;5;18m__name__\u001B[39m\u001B[38;5;132;01m}\u001B[39;00m\u001B[38;5;124m on \u001B[39m\u001B[38;5;132;01m{\u001B[39;00mclassname\u001B[38;5;132;01m}\u001B[39;00m\u001B[38;5;124m\"\u001B[39m)\n\u001B[1;32m--> 153\u001B[0m res \u001B[38;5;241m=\u001B[39m func(\u001B[38;5;241m*\u001B[39margs, \u001B[38;5;241m*\u001B[39m\u001B[38;5;241m*\u001B[39mkwargs)\n\u001B[0;32m    154\u001B[0m logger\u001B[38;5;241m.\u001B[39mdebug(\u001B[38;5;124mf\u001B[39m\u001B[38;5;124m\"\u001B[39m\u001B[38;5;124mcompleted calling \u001B[39m\u001B[38;5;132;01m{\u001B[39;00mfunc\u001B[38;5;241m.\u001B[39m\u001B[38;5;18m__name__\u001B[39m\u001B[38;5;132;01m}\u001B[39;00m\u001B[38;5;124m on \u001B[39m\u001B[38;5;132;01m{\u001B[39;00mclassname\u001B[38;5;132;01m}\u001B[39;00m\u001B[38;5;124m\"\u001B[39m)\n",
      "File \u001B[1;32m~\\anaconda3\\Lib\\site-packages\\ema_workbench\\em_framework\\model.py:347\u001B[0m, in \u001B[0;36mSingleReplication.run_model\u001B[1;34m(self, scenario, policy)\u001B[0m\n\u001B[0;32m    345\u001B[0m experiment \u001B[38;5;241m=\u001B[39m ExperimentReplication(scenario, \u001B[38;5;28mself\u001B[39m\u001B[38;5;241m.\u001B[39mpolicy, constants)\n\u001B[1;32m--> 347\u001B[0m outputs \u001B[38;5;241m=\u001B[39m \u001B[38;5;28mself\u001B[39m\u001B[38;5;241m.\u001B[39mrun_experiment(experiment)\n\u001B[0;32m    349\u001B[0m \u001B[38;5;28mself\u001B[39m\u001B[38;5;241m.\u001B[39moutcomes_output \u001B[38;5;241m=\u001B[39m outputs\n",
      "File \u001B[1;32m~\\anaconda3\\Lib\\site-packages\\ema_workbench\\util\\ema_logging.py:153\u001B[0m, in \u001B[0;36mmethod_logger.<locals>.real_decorator.<locals>.wrapper\u001B[1;34m(*args, **kwargs)\u001B[0m\n\u001B[0;32m    152\u001B[0m logger\u001B[38;5;241m.\u001B[39mdebug(\u001B[38;5;124mf\u001B[39m\u001B[38;5;124m\"\u001B[39m\u001B[38;5;124mcalling \u001B[39m\u001B[38;5;132;01m{\u001B[39;00mfunc\u001B[38;5;241m.\u001B[39m\u001B[38;5;18m__name__\u001B[39m\u001B[38;5;132;01m}\u001B[39;00m\u001B[38;5;124m on \u001B[39m\u001B[38;5;132;01m{\u001B[39;00mclassname\u001B[38;5;132;01m}\u001B[39;00m\u001B[38;5;124m\"\u001B[39m)\n\u001B[1;32m--> 153\u001B[0m res \u001B[38;5;241m=\u001B[39m func(\u001B[38;5;241m*\u001B[39margs, \u001B[38;5;241m*\u001B[39m\u001B[38;5;241m*\u001B[39mkwargs)\n\u001B[0;32m    154\u001B[0m logger\u001B[38;5;241m.\u001B[39mdebug(\u001B[38;5;124mf\u001B[39m\u001B[38;5;124m\"\u001B[39m\u001B[38;5;124mcompleted calling \u001B[39m\u001B[38;5;132;01m{\u001B[39;00mfunc\u001B[38;5;241m.\u001B[39m\u001B[38;5;18m__name__\u001B[39m\u001B[38;5;132;01m}\u001B[39;00m\u001B[38;5;124m on \u001B[39m\u001B[38;5;132;01m{\u001B[39;00mclassname\u001B[38;5;132;01m}\u001B[39;00m\u001B[38;5;124m\"\u001B[39m)\n",
      "File \u001B[1;32m~\\anaconda3\\Lib\\site-packages\\ema_workbench\\em_framework\\model.py:400\u001B[0m, in \u001B[0;36mBaseModel.run_experiment\u001B[1;34m(self, experiment)\u001B[0m\n\u001B[0;32m    393\u001B[0m \u001B[38;5;250m\u001B[39m\u001B[38;5;124;03m\"\"\"Method for running an instantiated model structure.\u001B[39;00m\n\u001B[0;32m    394\u001B[0m \n\u001B[0;32m    395\u001B[0m \u001B[38;5;124;03mParameters\u001B[39;00m\n\u001B[1;32m   (...)\u001B[0m\n\u001B[0;32m    398\u001B[0m \n\u001B[0;32m    399\u001B[0m \u001B[38;5;124;03m\"\"\"\u001B[39;00m\n\u001B[1;32m--> 400\u001B[0m model_output \u001B[38;5;241m=\u001B[39m \u001B[38;5;28mself\u001B[39m\u001B[38;5;241m.\u001B[39mfunction(\u001B[38;5;241m*\u001B[39m\u001B[38;5;241m*\u001B[39mexperiment)\n\u001B[0;32m    402\u001B[0m \u001B[38;5;66;03m# TODO: might it be possible to somehow abstract this\u001B[39;00m\n\u001B[0;32m    403\u001B[0m \u001B[38;5;66;03m# perhaps expose a get_data on modelInterface?\u001B[39;00m\n\u001B[0;32m    404\u001B[0m \u001B[38;5;66;03m# different connectors can than implement only this\u001B[39;00m\n\u001B[0;32m    405\u001B[0m \u001B[38;5;66;03m# get method\u001B[39;00m\n",
      "\u001B[1;31mTypeError\u001B[0m: lake_problem() got an unexpected keyword argument 'L0'",
      "\nDuring handling of the above exception, another exception occurred:\n",
      "\u001B[1;31mEMAError\u001B[0m                                  Traceback (most recent call last)",
      "Cell \u001B[1;32mIn[45], line 4\u001B[0m\n\u001B[0;32m      1\u001B[0m \u001B[38;5;28;01mfrom\u001B[39;00m \u001B[38;5;21;01mema_workbench\u001B[39;00m \u001B[38;5;28;01mimport\u001B[39;00m SequentialEvaluator\n\u001B[0;32m      3\u001B[0m \u001B[38;5;28;01mwith\u001B[39;00m SequentialEvaluator(model) \u001B[38;5;28;01mas\u001B[39;00m evaluator:\n\u001B[1;32m----> 4\u001B[0m     experiments, outcomes \u001B[38;5;241m=\u001B[39m evaluator\u001B[38;5;241m.\u001B[39mperform_experiments(scenarios\u001B[38;5;241m=\u001B[39m\u001B[38;5;241m100\u001B[39m, policies\u001B[38;5;241m=\u001B[39m\u001B[38;5;241m2\u001B[39m )\n",
      "File \u001B[1;32m~\\anaconda3\\Lib\\site-packages\\ema_workbench\\em_framework\\evaluators.py:193\u001B[0m, in \u001B[0;36mBaseEvaluator.perform_experiments\u001B[1;34m(self, scenarios, policies, reporting_interval, reporting_frequency, uncertainty_union, lever_union, outcome_union, uncertainty_sampling, lever_sampling, callback, combine, **kwargs)\u001B[0m\n\u001B[0;32m    172\u001B[0m \u001B[38;5;28;01mdef\u001B[39;00m \u001B[38;5;21mperform_experiments\u001B[39m(\n\u001B[0;32m    173\u001B[0m     \u001B[38;5;28mself\u001B[39m,\n\u001B[0;32m    174\u001B[0m     scenarios\u001B[38;5;241m=\u001B[39m\u001B[38;5;241m0\u001B[39m,\n\u001B[1;32m   (...)\u001B[0m\n\u001B[0;32m    185\u001B[0m     \u001B[38;5;241m*\u001B[39m\u001B[38;5;241m*\u001B[39mkwargs,\n\u001B[0;32m    186\u001B[0m ):\n\u001B[0;32m    187\u001B[0m \u001B[38;5;250m    \u001B[39m\u001B[38;5;124;03m\"\"\"convenience method for performing experiments.\u001B[39;00m\n\u001B[0;32m    188\u001B[0m \n\u001B[0;32m    189\u001B[0m \u001B[38;5;124;03m    is forwarded to :func:perform_experiments, with evaluator and\u001B[39;00m\n\u001B[0;32m    190\u001B[0m \u001B[38;5;124;03m    models arguments added in.\u001B[39;00m\n\u001B[0;32m    191\u001B[0m \n\u001B[0;32m    192\u001B[0m \u001B[38;5;124;03m    \"\"\"\u001B[39;00m\n\u001B[1;32m--> 193\u001B[0m     \u001B[38;5;28;01mreturn\u001B[39;00m perform_experiments(\n\u001B[0;32m    194\u001B[0m         \u001B[38;5;28mself\u001B[39m\u001B[38;5;241m.\u001B[39m_msis,\n\u001B[0;32m    195\u001B[0m         scenarios\u001B[38;5;241m=\u001B[39mscenarios,\n\u001B[0;32m    196\u001B[0m         policies\u001B[38;5;241m=\u001B[39mpolicies,\n\u001B[0;32m    197\u001B[0m         evaluator\u001B[38;5;241m=\u001B[39m\u001B[38;5;28mself\u001B[39m,\n\u001B[0;32m    198\u001B[0m         reporting_interval\u001B[38;5;241m=\u001B[39mreporting_interval,\n\u001B[0;32m    199\u001B[0m         reporting_frequency\u001B[38;5;241m=\u001B[39mreporting_frequency,\n\u001B[0;32m    200\u001B[0m         uncertainty_union\u001B[38;5;241m=\u001B[39muncertainty_union,\n\u001B[0;32m    201\u001B[0m         lever_union\u001B[38;5;241m=\u001B[39mlever_union,\n\u001B[0;32m    202\u001B[0m         outcome_union\u001B[38;5;241m=\u001B[39moutcome_union,\n\u001B[0;32m    203\u001B[0m         uncertainty_sampling\u001B[38;5;241m=\u001B[39muncertainty_sampling,\n\u001B[0;32m    204\u001B[0m         lever_sampling\u001B[38;5;241m=\u001B[39mlever_sampling,\n\u001B[0;32m    205\u001B[0m         callback\u001B[38;5;241m=\u001B[39mcallback,\n\u001B[0;32m    206\u001B[0m         combine\u001B[38;5;241m=\u001B[39mcombine,\n\u001B[0;32m    207\u001B[0m         \u001B[38;5;241m*\u001B[39m\u001B[38;5;241m*\u001B[39mkwargs,\n\u001B[0;32m    208\u001B[0m     )\n",
      "File \u001B[1;32m~\\anaconda3\\Lib\\site-packages\\ema_workbench\\em_framework\\evaluators.py:406\u001B[0m, in \u001B[0;36mperform_experiments\u001B[1;34m(models, scenarios, policies, evaluator, reporting_interval, reporting_frequency, uncertainty_union, lever_union, outcome_union, uncertainty_sampling, lever_sampling, callback, return_callback, combine, log_progress, **kwargs)\u001B[0m\n\u001B[0;32m    403\u001B[0m \u001B[38;5;28;01mif\u001B[39;00m \u001B[38;5;129;01mnot\u001B[39;00m evaluator:\n\u001B[0;32m    404\u001B[0m     evaluator \u001B[38;5;241m=\u001B[39m SequentialEvaluator(models)\n\u001B[1;32m--> 406\u001B[0m evaluator\u001B[38;5;241m.\u001B[39mevaluate_experiments(scenarios, policies, callback, combine\u001B[38;5;241m=\u001B[39mcombine, \u001B[38;5;241m*\u001B[39m\u001B[38;5;241m*\u001B[39mkwargs)\n\u001B[0;32m    408\u001B[0m \u001B[38;5;28;01mif\u001B[39;00m callback\u001B[38;5;241m.\u001B[39mi \u001B[38;5;241m!=\u001B[39m nr_of_exp:\n\u001B[0;32m    409\u001B[0m     \u001B[38;5;28;01mraise\u001B[39;00m EMAError(\n\u001B[0;32m    410\u001B[0m         \u001B[38;5;124mf\u001B[39m\u001B[38;5;124m\"\u001B[39m\u001B[38;5;124mSome fatal error has occurred while running the experiments, not all runs have completed. Expected \u001B[39m\u001B[38;5;132;01m{\u001B[39;00mnr_of_exp\u001B[38;5;132;01m}\u001B[39;00m\u001B[38;5;124m, got \u001B[39m\u001B[38;5;132;01m{\u001B[39;00mcallback\u001B[38;5;241m.\u001B[39mi\u001B[38;5;132;01m}\u001B[39;00m\u001B[38;5;124m\"\u001B[39m\n\u001B[0;32m    411\u001B[0m     )\n",
      "File \u001B[1;32m~\\anaconda3\\Lib\\site-packages\\ema_workbench\\em_framework\\evaluators.py:291\u001B[0m, in \u001B[0;36mSequentialEvaluator.evaluate_experiments\u001B[1;34m(self, scenarios, policies, callback, combine)\u001B[0m\n\u001B[0;32m    288\u001B[0m runner \u001B[38;5;241m=\u001B[39m ExperimentRunner(models)\n\u001B[0;32m    290\u001B[0m \u001B[38;5;28;01mfor\u001B[39;00m experiment \u001B[38;5;129;01min\u001B[39;00m ex_gen:\n\u001B[1;32m--> 291\u001B[0m     outcomes \u001B[38;5;241m=\u001B[39m runner\u001B[38;5;241m.\u001B[39mrun_experiment(experiment)\n\u001B[0;32m    292\u001B[0m     callback(experiment, outcomes)\n\u001B[0;32m    293\u001B[0m runner\u001B[38;5;241m.\u001B[39mcleanup()\n",
      "File \u001B[1;32m~\\anaconda3\\Lib\\site-packages\\ema_workbench\\util\\ema_logging.py:153\u001B[0m, in \u001B[0;36mmethod_logger.<locals>.real_decorator.<locals>.wrapper\u001B[1;34m(*args, **kwargs)\u001B[0m\n\u001B[0;32m    148\u001B[0m \u001B[38;5;129m@wraps\u001B[39m(func)\n\u001B[0;32m    149\u001B[0m \u001B[38;5;28;01mdef\u001B[39;00m \u001B[38;5;21mwrapper\u001B[39m(\u001B[38;5;241m*\u001B[39margs, \u001B[38;5;241m*\u001B[39m\u001B[38;5;241m*\u001B[39mkwargs):\n\u001B[0;32m    150\u001B[0m     \u001B[38;5;66;03m# hack, because log is applied to methods, we can get\u001B[39;00m\n\u001B[0;32m    151\u001B[0m     \u001B[38;5;66;03m# object instance as first arguments in args\u001B[39;00m\n\u001B[0;32m    152\u001B[0m     logger\u001B[38;5;241m.\u001B[39mdebug(\u001B[38;5;124mf\u001B[39m\u001B[38;5;124m\"\u001B[39m\u001B[38;5;124mcalling \u001B[39m\u001B[38;5;132;01m{\u001B[39;00mfunc\u001B[38;5;241m.\u001B[39m\u001B[38;5;18m__name__\u001B[39m\u001B[38;5;132;01m}\u001B[39;00m\u001B[38;5;124m on \u001B[39m\u001B[38;5;132;01m{\u001B[39;00mclassname\u001B[38;5;132;01m}\u001B[39;00m\u001B[38;5;124m\"\u001B[39m)\n\u001B[1;32m--> 153\u001B[0m     res \u001B[38;5;241m=\u001B[39m func(\u001B[38;5;241m*\u001B[39margs, \u001B[38;5;241m*\u001B[39m\u001B[38;5;241m*\u001B[39mkwargs)\n\u001B[0;32m    154\u001B[0m     logger\u001B[38;5;241m.\u001B[39mdebug(\u001B[38;5;124mf\u001B[39m\u001B[38;5;124m\"\u001B[39m\u001B[38;5;124mcompleted calling \u001B[39m\u001B[38;5;132;01m{\u001B[39;00mfunc\u001B[38;5;241m.\u001B[39m\u001B[38;5;18m__name__\u001B[39m\u001B[38;5;132;01m}\u001B[39;00m\u001B[38;5;124m on \u001B[39m\u001B[38;5;132;01m{\u001B[39;00mclassname\u001B[38;5;132;01m}\u001B[39;00m\u001B[38;5;124m\"\u001B[39m)\n\u001B[0;32m    155\u001B[0m     \u001B[38;5;28;01mreturn\u001B[39;00m res\n",
      "File \u001B[1;32m~\\anaconda3\\Lib\\site-packages\\ema_workbench\\em_framework\\experiment_runner.py:108\u001B[0m, in \u001B[0;36mExperimentRunner.run_experiment\u001B[1;34m(self, experiment)\u001B[0m\n\u001B[0;32m    102\u001B[0m     \u001B[38;5;66;03m#             exception = traceback.print_exc()\u001B[39;00m\n\u001B[0;32m    103\u001B[0m     \u001B[38;5;66;03m#             if exception:\u001B[39;00m\n\u001B[0;32m    104\u001B[0m     \u001B[38;5;66;03m#                 sys.stderr.write(exception)\u001B[39;00m\n\u001B[0;32m    105\u001B[0m     \u001B[38;5;66;03m#                 sys.stderr.write(\"\\n\")\u001B[39;00m\n\u001B[0;32m    107\u001B[0m     errortype \u001B[38;5;241m=\u001B[39m \u001B[38;5;28mtype\u001B[39m(e)\u001B[38;5;241m.\u001B[39m\u001B[38;5;18m__name__\u001B[39m\n\u001B[1;32m--> 108\u001B[0m     \u001B[38;5;28;01mraise\u001B[39;00m EMAError(\u001B[38;5;124mf\u001B[39m\u001B[38;5;124m\"\u001B[39m\u001B[38;5;124mException in run_model\u001B[39m\u001B[38;5;130;01m\\n\u001B[39;00m\u001B[38;5;124mCaused by: \u001B[39m\u001B[38;5;132;01m{\u001B[39;00merrortype\u001B[38;5;132;01m}\u001B[39;00m\u001B[38;5;124m: \u001B[39m\u001B[38;5;132;01m{\u001B[39;00m\u001B[38;5;28mstr\u001B[39m(e)\u001B[38;5;132;01m}\u001B[39;00m\u001B[38;5;124m\"\u001B[39m)\n\u001B[0;32m    110\u001B[0m outcomes \u001B[38;5;241m=\u001B[39m model\u001B[38;5;241m.\u001B[39moutcomes_output\n\u001B[0;32m    111\u001B[0m model\u001B[38;5;241m.\u001B[39mreset_model()\n",
      "\u001B[1;31mEMAError\u001B[0m: Exception in run_model\nCaused by: TypeError: lake_problem() got an unexpected keyword argument 'L0'"
     ]
    }
   ],
   "source": [
    "from ema_workbench import SequentialEvaluator\n",
    "\n",
    "with SequentialEvaluator(model) as evaluator:\n",
    "    experiments, outcomes = evaluator.perform_experiments(scenarios=100, policies=2 )"
   ],
   "metadata": {
    "collapsed": false,
    "ExecuteTime": {
     "end_time": "2024-04-25T14:23:25.476084700Z",
     "start_time": "2024-04-25T14:23:25.231947600Z"
    }
   }
  },
  {
   "cell_type": "markdown",
   "metadata": {},
   "source": [
    "2. Explore the behavior of the system in the absence of any release using 1000 scenarios, and the default sampling approach.\n",
    "    * visualize the outcomes of interest, are there any apparent trade-offs?\n",
    "    * can you visually identify the uncertainties that drive system behavior?\n"
   ]
  },
  {
   "cell_type": "code",
   "execution_count": 37,
   "outputs": [
    {
     "data": {
      "text/plain": "           b     delta      mean         q     stdev scenario policy  \\\n0   0.283628  0.943853  0.023293  3.148893  0.001765     1230   None   \n1   0.274304  0.985378  0.035021  3.792539  0.001287     1231   None   \n2   0.155797  0.945855  0.036262  3.042753  0.003065     1232   None   \n3   0.255335  0.932040  0.013770  2.193712  0.003837     1233   None   \n4   0.426355  0.986739  0.017573  3.600653  0.001241     1234   None   \n..       ...       ...       ...       ...       ...      ...    ...   \n95  0.421575  0.964495  0.038791  3.403885  0.001972     1325   None   \n96  0.334741  0.959140  0.047265  2.887038  0.003168     1326   None   \n97  0.401213  0.948800  0.039801  4.040671  0.003533     1327   None   \n98  0.133321  0.956057  0.018999  3.065402  0.001897     1328   None   \n99  0.412510  0.936493  0.028144  2.900732  0.004054     1329   None   \n\n        model  \n0   lakeModel  \n1   lakeModel  \n2   lakeModel  \n3   lakeModel  \n4   lakeModel  \n..        ...  \n95  lakeModel  \n96  lakeModel  \n97  lakeModel  \n98  lakeModel  \n99  lakeModel  \n\n[100 rows x 8 columns]",
      "text/html": "<div>\n<style scoped>\n    .dataframe tbody tr th:only-of-type {\n        vertical-align: middle;\n    }\n\n    .dataframe tbody tr th {\n        vertical-align: top;\n    }\n\n    .dataframe thead th {\n        text-align: right;\n    }\n</style>\n<table border=\"1\" class=\"dataframe\">\n  <thead>\n    <tr style=\"text-align: right;\">\n      <th></th>\n      <th>b</th>\n      <th>delta</th>\n      <th>mean</th>\n      <th>q</th>\n      <th>stdev</th>\n      <th>scenario</th>\n      <th>policy</th>\n      <th>model</th>\n    </tr>\n  </thead>\n  <tbody>\n    <tr>\n      <th>0</th>\n      <td>0.283628</td>\n      <td>0.943853</td>\n      <td>0.023293</td>\n      <td>3.148893</td>\n      <td>0.001765</td>\n      <td>1230</td>\n      <td>None</td>\n      <td>lakeModel</td>\n    </tr>\n    <tr>\n      <th>1</th>\n      <td>0.274304</td>\n      <td>0.985378</td>\n      <td>0.035021</td>\n      <td>3.792539</td>\n      <td>0.001287</td>\n      <td>1231</td>\n      <td>None</td>\n      <td>lakeModel</td>\n    </tr>\n    <tr>\n      <th>2</th>\n      <td>0.155797</td>\n      <td>0.945855</td>\n      <td>0.036262</td>\n      <td>3.042753</td>\n      <td>0.003065</td>\n      <td>1232</td>\n      <td>None</td>\n      <td>lakeModel</td>\n    </tr>\n    <tr>\n      <th>3</th>\n      <td>0.255335</td>\n      <td>0.932040</td>\n      <td>0.013770</td>\n      <td>2.193712</td>\n      <td>0.003837</td>\n      <td>1233</td>\n      <td>None</td>\n      <td>lakeModel</td>\n    </tr>\n    <tr>\n      <th>4</th>\n      <td>0.426355</td>\n      <td>0.986739</td>\n      <td>0.017573</td>\n      <td>3.600653</td>\n      <td>0.001241</td>\n      <td>1234</td>\n      <td>None</td>\n      <td>lakeModel</td>\n    </tr>\n    <tr>\n      <th>...</th>\n      <td>...</td>\n      <td>...</td>\n      <td>...</td>\n      <td>...</td>\n      <td>...</td>\n      <td>...</td>\n      <td>...</td>\n      <td>...</td>\n    </tr>\n    <tr>\n      <th>95</th>\n      <td>0.421575</td>\n      <td>0.964495</td>\n      <td>0.038791</td>\n      <td>3.403885</td>\n      <td>0.001972</td>\n      <td>1325</td>\n      <td>None</td>\n      <td>lakeModel</td>\n    </tr>\n    <tr>\n      <th>96</th>\n      <td>0.334741</td>\n      <td>0.959140</td>\n      <td>0.047265</td>\n      <td>2.887038</td>\n      <td>0.003168</td>\n      <td>1326</td>\n      <td>None</td>\n      <td>lakeModel</td>\n    </tr>\n    <tr>\n      <th>97</th>\n      <td>0.401213</td>\n      <td>0.948800</td>\n      <td>0.039801</td>\n      <td>4.040671</td>\n      <td>0.003533</td>\n      <td>1327</td>\n      <td>None</td>\n      <td>lakeModel</td>\n    </tr>\n    <tr>\n      <th>98</th>\n      <td>0.133321</td>\n      <td>0.956057</td>\n      <td>0.018999</td>\n      <td>3.065402</td>\n      <td>0.001897</td>\n      <td>1328</td>\n      <td>None</td>\n      <td>lakeModel</td>\n    </tr>\n    <tr>\n      <th>99</th>\n      <td>0.412510</td>\n      <td>0.936493</td>\n      <td>0.028144</td>\n      <td>2.900732</td>\n      <td>0.004054</td>\n      <td>1329</td>\n      <td>None</td>\n      <td>lakeModel</td>\n    </tr>\n  </tbody>\n</table>\n<p>100 rows × 8 columns</p>\n</div>"
     },
     "execution_count": 37,
     "metadata": {},
     "output_type": "execute_result"
    }
   ],
   "source": [
    "experiments\n"
   ],
   "metadata": {
    "collapsed": false,
    "ExecuteTime": {
     "end_time": "2024-04-25T13:52:09.239902200Z",
     "start_time": "2024-04-25T13:52:09.200413900Z"
    }
   }
  },
  {
   "cell_type": "code",
   "execution_count": 39,
   "outputs": [
    {
     "data": {
      "text/plain": "{'f_phosphorus': array([ 0.08405261,  0.12973933,  6.63186778,  0.06457141,  0.04154758,\n         4.11679108,  0.06981054,  0.14147767,  0.03608587,  7.49411606,\n         0.60519995,  0.06081729,  4.44937881,  0.14637067,  5.94227511,\n         0.13358538,  0.08054676,  0.14887512,  0.22134526,  0.26259992,\n         0.29428192,  0.03718471,  0.3014348 ,  0.06923541,  0.16479498,\n         0.19159243,  6.57953727,  0.09305388,  0.04045654,  0.13055171,\n         0.14393954,  0.09413429,  4.33502288,  6.15284633,  8.62627017,\n         0.07201892,  0.13059118,  5.44243367,  0.07743877,  0.10292874,\n         4.9431274 ,  0.09962563,  0.06715289,  0.04610011,  0.12504445,\n         0.1148214 ,  0.09110302,  0.0558813 ,  0.06833284,  9.07002819,\n         0.12609415,  0.12608853,  0.06910516,  0.04621599,  0.15259842,\n         0.08378076,  0.06832753,  0.03506384,  5.01679051,  0.15900285,\n         0.12389854,  0.07115631,  8.1107351 ,  0.10454519,  8.02921888,\n         0.22185412,  9.75722463,  0.07307624,  3.88073441, 10.07141558,\n         0.13102479,  0.05730529,  0.08383626,  0.18590854,  0.0301924 ,\n         0.20046972,  0.05840838,  0.0570765 ,  0.08187107,  0.04758936,\n         0.04103413,  0.06052944,  4.04171801,  0.06786802,  0.25124569,\n         0.07697056,  0.13881541,  6.15699233,  0.11889319,  0.09266166,\n         6.508357  ,  0.11628179,  4.91209743,  0.12543704,  6.66051017,\n         0.09345907,  0.15625831,  0.100439  ,  0.18472004,  0.07066946]),\n 'f_economic': array([0., 0., 0., 0., 0., 0., 0., 0., 0., 0., 0., 0., 0., 0., 0., 0., 0.,\n        0., 0., 0., 0., 0., 0., 0., 0., 0., 0., 0., 0., 0., 0., 0., 0., 0.,\n        0., 0., 0., 0., 0., 0., 0., 0., 0., 0., 0., 0., 0., 0., 0., 0., 0.,\n        0., 0., 0., 0., 0., 0., 0., 0., 0., 0., 0., 0., 0., 0., 0., 0., 0.,\n        0., 0., 0., 0., 0., 0., 0., 0., 0., 0., 0., 0., 0., 0., 0., 0., 0.,\n        0., 0., 0., 0., 0., 0., 0., 0., 0., 0., 0., 0., 0., 0., 0.]),\n 'f_inertia': array([0., 0., 0., 0., 0., 0., 0., 0., 0., 0., 0., 0., 0., 0., 0., 0., 0.,\n        0., 0., 0., 0., 0., 0., 0., 0., 0., 0., 0., 0., 0., 0., 0., 0., 0.,\n        0., 0., 0., 0., 0., 0., 0., 0., 0., 0., 0., 0., 0., 0., 0., 0., 0.,\n        0., 0., 0., 0., 0., 0., 0., 0., 0., 0., 0., 0., 0., 0., 0., 0., 0.,\n        0., 0., 0., 0., 0., 0., 0., 0., 0., 0., 0., 0., 0., 0., 0., 0., 0.,\n        0., 0., 0., 0., 0., 0., 0., 0., 0., 0., 0., 0., 0., 0., 0.]),\n 'f_reliability': array([1.    , 1.    , 0.2385, 1.    , 1.    , 0.2905, 1.    , 1.    ,\n        1.    , 0.2221, 0.9855, 1.    , 0.6021, 1.    , 0.0886, 1.    ,\n        1.    , 1.    , 1.    , 1.    , 1.    , 1.    , 0.9962, 1.    ,\n        1.    , 1.    , 0.7779, 1.    , 1.    , 1.    , 1.    , 1.    ,\n        0.3077, 0.1576, 0.2948, 1.    , 1.    , 0.235 , 1.    , 1.    ,\n        0.1003, 1.    , 1.    , 1.    , 1.    , 1.    , 1.    , 1.    ,\n        1.    , 0.2677, 1.    , 1.    , 1.    , 1.    , 1.    , 1.    ,\n        1.    , 1.    , 0.4166, 1.    , 1.    , 1.    , 0.1604, 1.    ,\n        0.2284, 1.    , 0.0867, 1.    , 0.3622, 0.1175, 1.    , 1.    ,\n        1.    , 1.    , 1.    , 1.    , 1.    , 1.    , 1.    , 1.    ,\n        1.    , 1.    , 0.2518, 1.    , 1.    , 1.    , 1.    , 0.5834,\n        1.    , 1.    , 0.0592, 1.    , 0.1946, 1.    , 0.1306, 1.    ,\n        1.    , 1.    , 1.    , 1.    ])}"
     },
     "execution_count": 39,
     "metadata": {},
     "output_type": "execute_result"
    }
   ],
   "source": [
    "\n",
    "outcomes"
   ],
   "metadata": {
    "collapsed": false,
    "ExecuteTime": {
     "end_time": "2024-04-25T14:06:09.465294500Z",
     "start_time": "2024-04-25T14:06:09.439232200Z"
    }
   }
  },
  {
   "cell_type": "code",
   "execution_count": 41,
   "outputs": [
    {
     "name": "stderr",
     "output_type": "stream",
     "text": [
      "C:\\Users\\31646\\AppData\\Local\\Temp\\ipykernel_4952\\3467161648.py:2: FutureWarning: \n",
      "\n",
      "`shade` is now deprecated in favor of `fill`; setting `fill=True`.\n",
      "This will become an error in seaborn v0.14.0; please update your code.\n",
      "\n",
      "  sns.kdeplot(data['f_phosphorus'], shade=True, color=\"r\", alpha=0.8)\n"
     ]
    },
    {
     "data": {
      "text/plain": "<Figure size 800x600 with 1 Axes>",
      "image/png": "[encoded data removed]"
     },
     "metadata": {},
     "output_type": "display_data"
    }
   ],
   "source": [
    "plt.figure(figsize=(8, 6))\n",
    "sns.kdeplot(data['f_phosphorus'], shade=True, color=\"r\", alpha=0.8)\n",
    "plt.title('Density Plot of Phosphorus Concentration')\n",
    "plt.xlabel('Phosphorus Concentration')\n",
    "plt.ylabel('Density')\n",
    "plt.grid(True)\n",
    "plt.show()\n"
   ],
   "metadata": {
    "collapsed": false,
    "ExecuteTime": {
     "end_time": "2024-04-25T14:07:39.088389800Z",
     "start_time": "2024-04-25T14:07:38.657781400Z"
    }
   }
  },
  {
   "cell_type": "code",
   "execution_count": 27,
   "metadata": {
    "ExecuteTime": {
     "end_time": "2024-04-25T13:38:54.429182100Z",
     "start_time": "2024-04-25T13:38:54.418666Z"
    }
   },
   "outputs": [],
   "source": []
  },
  {
   "cell_type": "markdown",
   "metadata": {},
   "source": [
    "3. Explore the behavior of the system over 1000 scenarios for 4 randomly sampled candidate strategies.\n",
    "    * visualize the outcomes of interest\n",
    "    * what can you say about how the release decision influences the system?"
   ]
  },
  {
   "cell_type": "code",
   "execution_count": null,
   "metadata": {
    "ExecuteTime": {
     "start_time": "2023-04-07T13:56:55.068135Z",
     "end_time": "2023-04-07T13:56:55.068641Z"
    }
   },
   "outputs": [],
   "source": []
  },
  {
   "cell_type": "markdown",
   "metadata": {},
   "source": [
    "4. If you have not used parallelization in the foregoing, try to adapt your code to use parallelization. The workbench comes with two evaluators for parallelization. The `MultiProcessingingEvaluator` and the `IpyparallelEvaluator`. When can you use each? Adapt your code from above and sue the `MultiProcessingingEvaluator`. Use the `time` or `timeit` library to check how much faster the computation for 1000 scenarios completes.\n",
    "\n",
    "#### A note on parallelization in Jupyter notebooks\n",
    "Using multiprocessing within a Jupyter notebook is tricky. On Linux it will work in general just fine. On a Mac it depends on the version of macOS and the version of Python. If you are on the latest version of macOS in combination with Python 3.8, it might work but no guarantees. On older versions of Python it should work fine. On Windows it is always a problem.\n",
    "\n",
    "The underlying explanation is quite technical. It has to do with how your operating system creates the additional python processes. On Windows, and the latest version of macOS in combination with Python 3.8. A completely new Python process is spawned. This new process does **not** inherit what is defined in memory of the parent process. The new child process will try to replicate what is in memory of the parent process by executing many of the import statements that have also been executed within the python process. Thus, if you define a model in the main process, it is not guaranteed to be known in the child processes. This is in particular true if you define the model within a jupyter notebook. Then the child processes will **never** know this function. Within jupyter notebooks, therefore, the best practice is to define your model within a `.py` file and import this `.py` file into the notebook. Now, each of the child processes will also execute this import statement and thus know the function.\n"
   ]
  },
  {
   "cell_type": "code",
   "execution_count": null,
   "metadata": {
    "ExecuteTime": {
     "start_time": "2023-04-07T13:56:55.071076Z",
     "end_time": "2023-04-07T13:56:55.071581Z"
    }
   },
   "outputs": [],
   "source": []
  },
  {
   "cell_type": "markdown",
   "source": [
    "#### Conclusion\n",
    "..."
   ],
   "metadata": {
    "collapsed": false
   }
  },
  {
   "cell_type": "code",
   "execution_count": null,
   "outputs": [],
   "source": [],
   "metadata": {
    "collapsed": false
   }
  }
 ],
 "metadata": {
  "anaconda-cloud": {},
  "kernelspec": {
   "display_name": "Python 3",
   "language": "python",
   "name": "python3"
  },
  "language_info": {
   "codemirror_mode": {
    "name": "ipython",
    "version": 3
   },
   "file_extension": ".py",
   "mimetype": "text/x-python",
   "name": "python",
   "nbconvert_exporter": "python",
   "pygments_lexer": "ipython3",
   "version": "3.8.5"
  },
  "latex_envs": {
   "LaTeX_envs_menu_present": true,
   "autocomplete": true,
   "bibliofile": "biblio.bib",
   "cite_by": "apalike",
   "current_citInitial": 1,
   "eqLabelWithNumbers": true,
   "eqNumInitial": 1,
   "hotkeys": {
    "equation": "Ctrl-E",
    "itemize": "Ctrl-I"
   },
   "labels_anchors": false,
   "latex_user_defs": false,
   "report_style_numbering": false,
   "user_envs_cfg": false
  }
 },
 "nbformat": 4,
 "nbformat_minor": 4
}
