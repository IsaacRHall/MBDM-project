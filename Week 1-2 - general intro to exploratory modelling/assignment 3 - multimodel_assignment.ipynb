{
 "cells": [
  {
   "cell_type": "markdown",
   "metadata": {},
   "source": [
    "# EPA1361 - Model-Based Decision Making\n",
    "\n",
    "## Multi-model analysis\n",
    "\n",
    "This exercise uses a simple version of the [Lotka-Volterra predator-prey equations](https://en.wikipedia.org/wiki/Lotka%E2%80%93Volterra_equations) to show how the EMA Workbench can be used for a\n",
    "multi-model analysis, in addition to typical parametric/structural uncertainties. This will let you test the connectors provided in the Workbench for Excel, NetLogo, and Vensim / PySD; we'll also use the models for the sensitivity analysis exercise in week 3.\n",
    "\n",
    "**Assignment**\n",
    "Using the three model files provided and the Python function below, define model objects for each implementation (Excel, NetLogo, Vensim/PySD, and Python), and test them using a single ensemble. Use 50 experiments sampled from the parameters below (so that each experiment will be executed for the 4 models, for a total of 200), and retrieve outputs for the _TIME_, _predators_, and _prey_ variables.\n",
    "   * Excel and Vensim are only supported on Windows\n",
    "   * Vensim requires the DSS version of Vensim\n",
    "   * Netlogo supoprt depends on [jpype](http://jpype.readthedocs.io/en/latest/install.html) and [pynetlogo](https://pynetlogo.readthedocs.io/en/latest/). Also, if you don't have NetLogo installed, please get [NetLogo 6.3.0](https://ccl.northwestern.edu/netlogo/download.shtml)\n",
    "   * for pysd, see [its documentation](http://pysd.readthedocs.io/en/master/installation.html)\n",
    "   * If possible try to work with all model versions, but even 2 or 3 (pure python and something else should be sufficient).\n",
    "\n",
    "\n",
    "|Parameter\t|Range or value\t        |\n",
    "|-----------|--------------:|\n",
    "|prey_birth_rate    \t|0.015 – 0.035\t|\n",
    "|predation_rate|0.0005 – 0.003 \t|\n",
    "|predator_efficiency     \t|0.001 – 0.004\t    |\n",
    "|predator_loss_rate\t    |0.04 – 0.08\t    |\n",
    "|Final time\t    |365\t    |\n",
    "|dt\t    |0.25\t    |\n",
    "\n",
    "* Note that your EMA Workbench installation includes [example scripts](https://github.com/quaquel/EMAworkbench/tree/master/ema_workbench/examples) for the different connectors. The different model objects follow a similar syntax but will need to be slightly adjusted depending on the software (e.g. to specify the NetLogo run length or the sheet name in Excel).\n",
    "  * This [tutorial](https://emaworkbench.readthedocs.io/en/latest/basic_tutorial.html) also shows a simple model in Python, Vensim and Excel connected to the workbench.\n",
    "\n",
    "* These model objects can be used with a replication functionality (for instance to test the effect of stochastic uncertainty in a NetLogo model), which repeats a given experiment over multiple replications. You can use a single replication in this exercise as the models are not stochastic. By default, each outcome array will then have a shape of (# experiments, # replications, # time steps). Try adapting the outcome arrays so that they can be used with the _lines_ plotting function of the Workbench, and plot the results grouped by model.\n",
    "\n",
    "* To check the graphical results, find the maximum absolute error of the time series you obtained for the _prey_ variable in the Excel, NetLogo, and Vensim/PySD models, relative to the Python function."
   ]
  },
  {
   "cell_type": "code",
   "execution_count": 2,
   "metadata": {},
   "outputs": [
    {
     "name": "stdout",
     "output_type": "stream",
     "text": [
      "Requirement already satisfied: pysd in c:\\users\\tijnv\\anaconda3\\lib\\site-packages (3.14.0)\n",
      "Requirement already satisfied: numpy>=1.23 in c:\\users\\tijnv\\anaconda3\\lib\\site-packages (from pysd) (1.23.5)\n",
      "Requirement already satisfied: pandas[excel] in c:\\users\\tijnv\\anaconda3\\lib\\site-packages (from pysd) (2.1.4)\n",
      "Requirement already satisfied: parsimonious in c:\\users\\tijnv\\anaconda3\\lib\\site-packages (from pysd) (0.10.0)\n",
      "Requirement already satisfied: xarray>=2023.9 in c:\\users\\tijnv\\anaconda3\\lib\\site-packages (from pysd) (2024.3.0)\n",
      "Requirement already satisfied: lxml in c:\\users\\tijnv\\anaconda3\\lib\\site-packages (from pysd) (4.9.3)\n",
      "Requirement already satisfied: regex in c:\\users\\tijnv\\anaconda3\\lib\\site-packages (from pysd) (2023.10.3)\n",
      "Requirement already satisfied: chardet in c:\\users\\tijnv\\anaconda3\\lib\\site-packages (from pysd) (4.0.0)\n",
      "Requirement already satisfied: black in c:\\users\\tijnv\\anaconda3\\lib\\site-packages (from pysd) (23.11.0)\n",
      "Requirement already satisfied: openpyxl>=3.1 in c:\\users\\tijnv\\anaconda3\\lib\\site-packages (from pysd) (3.1.2)\n",
      "Requirement already satisfied: scipy in c:\\users\\tijnv\\anaconda3\\lib\\site-packages (from pysd) (1.11.4)\n",
      "Requirement already satisfied: progressbar2 in c:\\users\\tijnv\\anaconda3\\lib\\site-packages (from pysd) (4.4.2)\n",
      "Requirement already satisfied: portion in c:\\users\\tijnv\\anaconda3\\lib\\site-packages (from pysd) (2.4.2)\n",
      "Requirement already satisfied: et-xmlfile in c:\\users\\tijnv\\anaconda3\\lib\\site-packages (from openpyxl>=3.1->pysd) (1.1.0)\n",
      "Requirement already satisfied: packaging>=22 in c:\\users\\tijnv\\anaconda3\\lib\\site-packages (from xarray>=2023.9->pysd) (23.1)\n",
      "Requirement already satisfied: click>=8.0.0 in c:\\users\\tijnv\\anaconda3\\lib\\site-packages (from black->pysd) (8.1.7)\n",
      "Requirement already satisfied: mypy-extensions>=0.4.3 in c:\\users\\tijnv\\anaconda3\\lib\\site-packages (from black->pysd) (1.0.0)\n",
      "Requirement already satisfied: pathspec>=0.9.0 in c:\\users\\tijnv\\anaconda3\\lib\\site-packages (from black->pysd) (0.10.3)\n",
      "Requirement already satisfied: platformdirs>=2 in c:\\users\\tijnv\\anaconda3\\lib\\site-packages (from black->pysd) (3.10.0)\n",
      "Requirement already satisfied: python-dateutil>=2.8.2 in c:\\users\\tijnv\\anaconda3\\lib\\site-packages (from pandas[excel]->pysd) (2.8.2)\n",
      "Requirement already satisfied: pytz>=2020.1 in c:\\users\\tijnv\\anaconda3\\lib\\site-packages (from pandas[excel]->pysd) (2023.3.post1)\n",
      "Requirement already satisfied: tzdata>=2022.1 in c:\\users\\tijnv\\anaconda3\\lib\\site-packages (from pandas[excel]->pysd) (2023.3)\n",
      "Requirement already satisfied: odfpy>=1.4.1 in c:\\users\\tijnv\\anaconda3\\lib\\site-packages (from pandas[excel]->pysd) (1.4.1)\n",
      "Requirement already satisfied: pyxlsb>=1.0.9 in c:\\users\\tijnv\\anaconda3\\lib\\site-packages (from pandas[excel]->pysd) (1.0.10)\n",
      "Requirement already satisfied: xlrd>=2.0.1 in c:\\users\\tijnv\\anaconda3\\lib\\site-packages (from pandas[excel]->pysd) (2.0.1)\n",
      "Requirement already satisfied: xlsxwriter>=3.0.3 in c:\\users\\tijnv\\anaconda3\\lib\\site-packages (from pandas[excel]->pysd) (3.2.0)\n",
      "Requirement already satisfied: sortedcontainers~=2.2 in c:\\users\\tijnv\\anaconda3\\lib\\site-packages (from portion->pysd) (2.4.0)\n",
      "Requirement already satisfied: python-utils>=3.8.1 in c:\\users\\tijnv\\anaconda3\\lib\\site-packages (from progressbar2->pysd) (3.8.2)\n",
      "Requirement already satisfied: colorama in c:\\users\\tijnv\\anaconda3\\lib\\site-packages (from click>=8.0.0->black->pysd) (0.4.6)\n",
      "Requirement already satisfied: defusedxml in c:\\users\\tijnv\\anaconda3\\lib\\site-packages (from odfpy>=1.4.1->pandas[excel]->pysd) (0.7.1)\n",
      "Requirement already satisfied: six>=1.5 in c:\\users\\tijnv\\anaconda3\\lib\\site-packages (from python-dateutil>=2.8.2->pandas[excel]->pysd) (1.16.0)\n",
      "Requirement already satisfied: typing-extensions>3.10.0.2 in c:\\users\\tijnv\\anaconda3\\lib\\site-packages (from python-utils>=3.8.1->progressbar2->pysd) (4.9.0)\n",
      "Note: you may need to restart the kernel to use updated packages.\n"
     ]
    }
   ],
   "source": [
    "pip install pysd"
   ]
  },
  {
   "cell_type": "code",
   "execution_count": 3,
   "metadata": {},
   "outputs": [
    {
     "name": "stdout",
     "output_type": "stream",
     "text": [
      "Requirement already satisfied: pyNetLogo in c:\\users\\tijnv\\anaconda3\\lib\\site-packages (0.5.2)\n",
      "Requirement already satisfied: pandas in c:\\users\\tijnv\\anaconda3\\lib\\site-packages (from pyNetLogo) (2.1.4)\n",
      "Requirement already satisfied: numpy in c:\\users\\tijnv\\anaconda3\\lib\\site-packages (from pyNetLogo) (1.23.5)\n",
      "Requirement already satisfied: jpype1 in c:\\users\\tijnv\\anaconda3\\lib\\site-packages (from pyNetLogo) (1.5.0)\n",
      "Requirement already satisfied: packaging in c:\\users\\tijnv\\anaconda3\\lib\\site-packages (from jpype1->pyNetLogo) (23.1)\n",
      "Requirement already satisfied: python-dateutil>=2.8.2 in c:\\users\\tijnv\\anaconda3\\lib\\site-packages (from pandas->pyNetLogo) (2.8.2)\n",
      "Requirement already satisfied: pytz>=2020.1 in c:\\users\\tijnv\\anaconda3\\lib\\site-packages (from pandas->pyNetLogo) (2023.3.post1)\n",
      "Requirement already satisfied: tzdata>=2022.1 in c:\\users\\tijnv\\anaconda3\\lib\\site-packages (from pandas->pyNetLogo) (2023.3)\n",
      "Requirement already satisfied: six>=1.5 in c:\\users\\tijnv\\anaconda3\\lib\\site-packages (from python-dateutil>=2.8.2->pandas->pyNetLogo) (1.16.0)\n",
      "Note: you may need to restart the kernel to use updated packages.\n"
     ]
    }
   ],
   "source": [
    "pip install pyNetLogo"
   ]
  },
  {
   "cell_type": "code",
   "execution_count": 4,
   "metadata": {
    "ExecuteTime": {
     "end_time": "2023-04-07T13:56:51.448651Z",
     "start_time": "2023-04-07T13:56:49.471035Z"
    },
    "collapsed": false
   },
   "outputs": [
    {
     "name": "stderr",
     "output_type": "stream",
     "text": [
      "c:\\Users\\tijnv\\anaconda3\\Lib\\site-packages\\ema_workbench\\em_framework\\__init__.py:101: UserWarning: ipyparallel not installed - IpyparalleEvaluator not available\n",
      "  warnings.warn(\"ipyparallel not installed - IpyparalleEvaluator not available\")\n",
      "c:\\Users\\tijnv\\anaconda3\\Lib\\site-packages\\ema_workbench\\connectors\\__init__.py:19: ImportWarning: vensim connector not available\n",
      "  warnings.warn(\"vensim connector not available\", ImportWarning)\n",
      "c:\\Users\\tijnv\\anaconda3\\Lib\\site-packages\\ema_workbench\\connectors\\__init__.py:34: ImportWarning: simio connector not available\n",
      "  warnings.warn(\"simio connector not available\", ImportWarning)\n"
     ]
    }
   ],
   "source": [
    "# Some imports you may need\n",
    "\n",
    "import numpy as np\n",
    "import matplotlib.pyplot as plt\n",
    "\n",
    "from ema_workbench import (Model, RealParameter, TimeSeriesOutcome, perform_experiments, ema_logging, MultiprocessingEvaluator)\n",
    "\n",
    "from ema_workbench.connectors.netlogo import NetLogoModel\n",
    "from ema_workbench.connectors.excel import ExcelModel\n",
    "from ema_workbench.connectors.pysd_connector import PysdModel\n",
    "\n",
    "from ema_workbench.em_framework.samplers import LHSSampler\n",
    "from ema_workbench.em_framework.salib_samplers import MorrisSampler, SobolSampler\n",
    "\n",
    "from ema_workbench.analysis.plotting import lines, Density"
   ]
  },
  {
   "cell_type": "code",
   "execution_count": 5,
   "metadata": {
    "ExecuteTime": {
     "end_time": "2023-04-07T13:56:51.450975Z",
     "start_time": "2023-04-07T13:56:51.445849Z"
    },
    "collapsed": false
   },
   "outputs": [],
   "source": [
    "# Import the Python function\n",
    "from model.pred_prey import PredPrey"
   ]
  },
  {
   "cell_type": "code",
   "execution_count": 6,
   "metadata": {
    "ExecuteTime": {
     "end_time": "2023-04-07T13:56:51.453653Z",
     "start_time": "2023-04-07T13:56:51.450975Z"
    },
    "collapsed": false,
    "jupyter": {
     "outputs_hidden": false
    }
   },
   "outputs": [
    {
     "ename": "TypeError",
     "evalue": "expected str, bytes or os.PathLike object, not NoneType",
     "output_type": "error",
     "traceback": [
      "\u001b[1;31m---------------------------------------------------------------------------\u001b[0m",
      "\u001b[1;31mTypeError\u001b[0m                                 Traceback (most recent call last)",
      "Cell \u001b[1;32mIn[6], line 1\u001b[0m\n\u001b[1;32m----> 1\u001b[0m model \u001b[38;5;241m=\u001b[39m ExcelModel(\u001b[38;5;124m\"\u001b[39m\u001b[38;5;124mpredatorPrey\u001b[39m\u001b[38;5;124m\"\u001b[39m, model_file\u001b[38;5;241m=\u001b[39m\u001b[38;5;124m\"\u001b[39m\u001b[38;5;124mPredPrey.xlsx\u001b[39m\u001b[38;5;124m\"\u001b[39m)\n\u001b[0;32m      3\u001b[0m \u001b[38;5;66;03m# Define uncertainties and outcomes\u001b[39;00m\n\u001b[0;32m      4\u001b[0m model\u001b[38;5;241m.\u001b[39muncertainties \u001b[38;5;241m=\u001b[39m [\n\u001b[0;32m      5\u001b[0m     RealParameter(\u001b[38;5;124m\"\u001b[39m\u001b[38;5;124mprey_birth_rate\u001b[39m\u001b[38;5;124m\"\u001b[39m, \u001b[38;5;241m0.015\u001b[39m, \u001b[38;5;241m0.035\u001b[39m),\n\u001b[0;32m      6\u001b[0m     RealParameter(\u001b[38;5;124m\"\u001b[39m\u001b[38;5;124mpredation_rate\u001b[39m\u001b[38;5;124m\"\u001b[39m, \u001b[38;5;241m0.0005\u001b[39m, \u001b[38;5;241m0.003\u001b[39m),\n\u001b[0;32m      7\u001b[0m     RealParameter(\u001b[38;5;124m\"\u001b[39m\u001b[38;5;124mpredator_efficiency\u001b[39m\u001b[38;5;124m\"\u001b[39m, \u001b[38;5;241m0.001\u001b[39m, \u001b[38;5;241m0.004\u001b[39m),\n\u001b[0;32m      8\u001b[0m     RealParameter(\u001b[38;5;124m\"\u001b[39m\u001b[38;5;124mpredator_loss_rate\u001b[39m\u001b[38;5;124m\"\u001b[39m, \u001b[38;5;241m0.04\u001b[39m, \u001b[38;5;241m0.08\u001b[39m),\n\u001b[0;32m      9\u001b[0m ]\n",
      "File \u001b[1;32mc:\\Users\\tijnv\\anaconda3\\Lib\\site-packages\\ema_workbench\\connectors\\excel.py:76\u001b[0m, in \u001b[0;36mBaseExcelModel.__init__\u001b[1;34m(self, name, wd, model_file, default_sheet, pointers)\u001b[0m\n\u001b[0;32m     75\u001b[0m \u001b[38;5;28;01mdef\u001b[39;00m \u001b[38;5;21m__init__\u001b[39m(\u001b[38;5;28mself\u001b[39m, name, wd\u001b[38;5;241m=\u001b[39m\u001b[38;5;28;01mNone\u001b[39;00m, model_file\u001b[38;5;241m=\u001b[39m\u001b[38;5;28;01mNone\u001b[39;00m, default_sheet\u001b[38;5;241m=\u001b[39m\u001b[38;5;28;01mNone\u001b[39;00m, pointers\u001b[38;5;241m=\u001b[39m\u001b[38;5;28;01mNone\u001b[39;00m):\n\u001b[1;32m---> 76\u001b[0m     \u001b[38;5;28msuper\u001b[39m()\u001b[38;5;241m.\u001b[39m\u001b[38;5;21m__init__\u001b[39m(name, wd\u001b[38;5;241m=\u001b[39mwd, model_file\u001b[38;5;241m=\u001b[39mmodel_file)\n\u001b[0;32m     77\u001b[0m     \u001b[38;5;66;03m#: Reference to the Excel application. This attribute is `None` until\u001b[39;00m\n\u001b[0;32m     78\u001b[0m     \u001b[38;5;66;03m#: model_init has been invoked.\u001b[39;00m\n\u001b[0;32m     79\u001b[0m     \u001b[38;5;28mself\u001b[39m\u001b[38;5;241m.\u001b[39mxl \u001b[38;5;241m=\u001b[39m \u001b[38;5;28;01mNone\u001b[39;00m\n",
      "File \u001b[1;32mc:\\Users\\tijnv\\anaconda3\\Lib\\site-packages\\ema_workbench\\em_framework\\model.py:508\u001b[0m, in \u001b[0;36mFileModel.__init__\u001b[1;34m(self, name, wd, model_file)\u001b[0m\n\u001b[0;32m    476\u001b[0m \u001b[38;5;28;01mdef\u001b[39;00m \u001b[38;5;21m__init__\u001b[39m(\u001b[38;5;28mself\u001b[39m, name, wd\u001b[38;5;241m=\u001b[39m\u001b[38;5;28;01mNone\u001b[39;00m, model_file\u001b[38;5;241m=\u001b[39m\u001b[38;5;28;01mNone\u001b[39;00m):\n\u001b[0;32m    477\u001b[0m \u001b[38;5;250m    \u001b[39m\u001b[38;5;124;03m\"\"\"interface to the model\u001b[39;00m\n\u001b[0;32m    478\u001b[0m \n\u001b[0;32m    479\u001b[0m \u001b[38;5;124;03m    Parameters\u001b[39;00m\n\u001b[1;32m   (...)\u001b[0m\n\u001b[0;32m    506\u001b[0m \n\u001b[0;32m    507\u001b[0m \u001b[38;5;124;03m    \"\"\"\u001b[39;00m\n\u001b[1;32m--> 508\u001b[0m     \u001b[38;5;28msuper\u001b[39m()\u001b[38;5;241m.\u001b[39m\u001b[38;5;21m__init__\u001b[39m(name, wd\u001b[38;5;241m=\u001b[39mwd)\n\u001b[0;32m    510\u001b[0m     path_to_file \u001b[38;5;241m=\u001b[39m os\u001b[38;5;241m.\u001b[39mpath\u001b[38;5;241m.\u001b[39mjoin(\u001b[38;5;28mself\u001b[39m\u001b[38;5;241m.\u001b[39mworking_directory, model_file)\n\u001b[0;32m    511\u001b[0m     \u001b[38;5;28;01mif\u001b[39;00m \u001b[38;5;129;01mnot\u001b[39;00m os\u001b[38;5;241m.\u001b[39mpath\u001b[38;5;241m.\u001b[39misfile(path_to_file):\n",
      "File \u001b[1;32mc:\\Users\\tijnv\\anaconda3\\Lib\\site-packages\\ema_workbench\\em_framework\\model.py:454\u001b[0m, in \u001b[0;36mWorkingDirectoryModel.__init__\u001b[1;34m(self, name, wd)\u001b[0m\n\u001b[0;32m    438\u001b[0m \u001b[38;5;250m\u001b[39m\u001b[38;5;124;03m\"\"\"interface to the model\u001b[39;00m\n\u001b[0;32m    439\u001b[0m \u001b[38;5;124;03mParameters\u001b[39;00m\n\u001b[0;32m    440\u001b[0m \u001b[38;5;124;03m----------\u001b[39;00m\n\u001b[1;32m   (...)\u001b[0m\n\u001b[0;32m    451\u001b[0m \u001b[38;5;124;03m    if working_directory does not exist\u001b[39;00m\n\u001b[0;32m    452\u001b[0m \u001b[38;5;124;03m\"\"\"\u001b[39;00m\n\u001b[0;32m    453\u001b[0m \u001b[38;5;28msuper\u001b[39m()\u001b[38;5;241m.\u001b[39m\u001b[38;5;21m__init__\u001b[39m(name)\n\u001b[1;32m--> 454\u001b[0m \u001b[38;5;28mself\u001b[39m\u001b[38;5;241m.\u001b[39mworking_directory \u001b[38;5;241m=\u001b[39m wd\n\u001b[0;32m    456\u001b[0m \u001b[38;5;28;01mif\u001b[39;00m \u001b[38;5;129;01mnot\u001b[39;00m os\u001b[38;5;241m.\u001b[39mpath\u001b[38;5;241m.\u001b[39mexists(\u001b[38;5;28mself\u001b[39m\u001b[38;5;241m.\u001b[39mworking_directory):\n\u001b[0;32m    457\u001b[0m     \u001b[38;5;28;01mraise\u001b[39;00m \u001b[38;5;167;01mValueError\u001b[39;00m(\u001b[38;5;124mf\u001b[39m\u001b[38;5;124m\"\u001b[39m\u001b[38;5;124mWorking directory \u001b[39m\u001b[38;5;132;01m{\u001b[39;00m\u001b[38;5;28mself\u001b[39m\u001b[38;5;241m.\u001b[39mworking_directory\u001b[38;5;132;01m}\u001b[39;00m\u001b[38;5;124m does not exist\u001b[39m\u001b[38;5;124m\"\u001b[39m)\n",
      "File \u001b[1;32mc:\\Users\\tijnv\\anaconda3\\Lib\\site-packages\\ema_workbench\\em_framework\\model.py:472\u001b[0m, in \u001b[0;36mFileModel.working_directory\u001b[1;34m(self, path)\u001b[0m\n\u001b[0;32m    470\u001b[0m \u001b[38;5;129m@working_directory\u001b[39m\u001b[38;5;241m.\u001b[39msetter\n\u001b[0;32m    471\u001b[0m \u001b[38;5;28;01mdef\u001b[39;00m \u001b[38;5;21mworking_directory\u001b[39m(\u001b[38;5;28mself\u001b[39m, path):\n\u001b[1;32m--> 472\u001b[0m     wd \u001b[38;5;241m=\u001b[39m os\u001b[38;5;241m.\u001b[39mpath\u001b[38;5;241m.\u001b[39mabspath(path)\n\u001b[0;32m    473\u001b[0m     _logger\u001b[38;5;241m.\u001b[39mdebug(\u001b[38;5;124mf\u001b[39m\u001b[38;5;124m\"\u001b[39m\u001b[38;5;124msetting working directory to \u001b[39m\u001b[38;5;132;01m{\u001b[39;00mwd\u001b[38;5;132;01m}\u001b[39;00m\u001b[38;5;124m\"\u001b[39m)\n\u001b[0;32m    474\u001b[0m     \u001b[38;5;28mself\u001b[39m\u001b[38;5;241m.\u001b[39m_working_directory \u001b[38;5;241m=\u001b[39m wd\n",
      "File \u001b[1;32m<frozen ntpath>:573\u001b[0m, in \u001b[0;36mabspath\u001b[1;34m(path)\u001b[0m\n",
      "File \u001b[1;32m<frozen ntpath>:540\u001b[0m, in \u001b[0;36mnormpath\u001b[1;34m(path)\u001b[0m\n",
      "\u001b[1;31mTypeError\u001b[0m: expected str, bytes or os.PathLike object, not NoneType"
     ]
    }
   ],
   "source": [
    "model = ExcelModel(\"predatorPrey\", wd=\"C:/Users/tijnv/Documents/GitHub/MBDM-project/Week 1-2 - general intro to exploratory modelling/model/\", model_file=\"PredPrey.xlsx\")\n",
    "\n",
    "# Define uncertainties and outcomes\n",
    "model.uncertainties = [\n",
    "    RealParameter(\"prey_birth_rate\", 0.015, 0.035),\n",
    "    RealParameter(\"predation_rate\", 0.0005, 0.003),\n",
    "    RealParameter(\"predator_efficiency\", 0.001, 0.004),\n",
    "    RealParameter(\"predator_loss_rate\", 0.04, 0.08),\n",
    "]\n",
    "model.outcomes = [\n",
    "    TimeSeriesOutcome('predators'),\n",
    "    TimeSeriesOutcome('prey'),\n",
    "    TimeSeriesOutcome('TIME')\n",
    "]\n",
    " # name of the sheet\n",
    "model.default_sheet = \"Sheet1\"\n",
    "    \n",
    "with MultiprocessingEvaluator(model) as evaluator:\n",
    "        results = perform_experiments(model, 100, reporting_interval=1, evaluator=evaluator)\n",
    "# Define model objects for the different implementations\n",
    "\n"
   ]
  },
  {
   "cell_type": "code",
   "execution_count": null,
   "metadata": {},
   "outputs": [],
   "source": []
  }
 ],
 "metadata": {
  "kernelspec": {
   "display_name": "Python 3",
   "language": "python",
   "name": "python3"
  },
  "language_info": {
   "codemirror_mode": {
    "name": "ipython",
    "version": 3
   },
   "file_extension": ".py",
   "mimetype": "text/x-python",
   "name": "python",
   "nbconvert_exporter": "python",
   "pygments_lexer": "ipython3",
   "version": "3.11.7"
  }
 },
 "nbformat": 4,
 "nbformat_minor": 4
}
