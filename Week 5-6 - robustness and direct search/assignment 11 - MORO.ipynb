{
 "cells": [
  {
   "cell_type": "markdown",
   "metadata": {},
   "source": [
    "# Multi-objective Robust Optimization (MORO)\n",
    "\n",
    "\n",
    "This exercise demostrates the application of MORO on the lake model. In contrast to the exercises in previous weeks, we will be using a slightly more sophisticated version of the problem. For details see the MORDM assignment for this week.\n",
    "\n",
    "## Setup MORO\n",
    "\n",
    "Many objective robust optimization aims at finding decisions that are robust with respect to the various deeply uncertain factors. For this, MORO evalues each candidate decision over a set of scenarios. For each outcome of interest, the robusntess over this set is calculated. A MOEA is used to maximize the robustness. \n",
    "\n",
    "For this assignment, we will be using a domain criterion as our robustness metric. The table below lists the rules that you should use for each outcome of interest.\n",
    "\n",
    "|Outcome of interest| threhsold  |\n",
    "|-------------------|------------|\n",
    "| Maximum pollution | $\\leq$ 0.75|\n",
    "| Inertia           | $\\geq$ 0.6 |\n",
    "| Reliability       | $\\geq$ 0.99|   \n",
    "| Utility           | $\\geq$ 0.75|\n",
    "\n",
    "**1) Implement a function for each outcome that takes a numpy array with results for the outcome of interest, and returns the robustness score**"
   ]
  },
  {
   "cell_type": "code",
   "execution_count": 7,
   "metadata": {
    "collapsed": true,
    "jupyter": {
     "outputs_hidden": true
    },
    "ExecuteTime": {
     "end_time": "2024-05-31T16:51:52.894962600Z",
     "start_time": "2024-05-31T16:51:52.888483400Z"
    }
   },
   "outputs": [],
   "source": [
    "import functools\n",
    "import numpy as np\n",
    "\n",
    "def robustness(direction, threshold, data):\n",
    "    \n",
    "    if direction == SMALLER:\n",
    "        return np.sum(data<=threshold)/data.shape[0]\n",
    "    elif direction == LARGER:\n",
    "        return np.sum(data>=threshold)/data.shape[0]\n",
    "\n",
    "def maxp(data):\n",
    "    return np.sum(data<=0.75)/data.shape[0]\n",
    "\n",
    "def inertia(data):\n",
    "    return np.sum(data>=0.6)/data.shape[0]\n",
    "\n",
    "def reliability(data):\n",
    "    return np.sum(data>=0.99)/data.shape[0]\n",
    "\n",
    "def utility(data):\n",
    "    return np.sum(data>=0.75)/data.shape[0]\n",
    "\n",
    "\n",
    "    \n",
    "SMALLER = 'SMALLER'\n",
    "LARGER = 'LARGER'"
   ]
  },
  {
   "cell_type": "markdown",
   "metadata": {},
   "source": [
    "**2) Generate 4 random release policies, and evaluate them over 500 scenarios. Sample the scenarios using Monte Carlo sampling. Next evaulate your robustness function for 1, 2, 3, ... 500 scenarios for each outcome and visualize this. What can you tell about the convergernce of the robusntess metric as a function of the number of scenarios?**"
   ]
  },
  {
   "cell_type": "code",
   "execution_count": 8,
   "metadata": {
    "collapsed": true,
    "jupyter": {
     "outputs_hidden": true
    },
    "ExecuteTime": {
     "end_time": "2024-05-31T16:51:56.155130800Z",
     "start_time": "2024-05-31T16:51:53.282690500Z"
    }
   },
   "outputs": [],
   "source": [
    "from dps_lake_model import lake_model\n",
    "from ema_workbench import (Model, MultiprocessingEvaluator, RealParameter, SequentialEvaluator, ScalarOutcome, ema_logging, Constraint, perform_experiments, Policy)\n",
    "from ema_workbench.analysis import parcoords\n",
    "from ema_workbench.em_framework.optimization import (HyperVolume, EpsilonProgress)\n",
    "from dps_lake_model import lake_model\n",
    "import numpy as np\n",
    "import pandas as pd"
   ]
  },
  {
   "cell_type": "code",
   "execution_count": 9,
   "outputs": [],
   "source": [
    "model = Model('LAKE', function=lake_model)\n",
    "\n",
    "# Setting the model uncertainties\n",
    "model.uncertainties = [RealParameter('b', 0.1, 0.45),\n",
    "                       RealParameter('q', 2, 4.5),\n",
    "                       RealParameter('mean', 0.01, 0.05),\n",
    "                       RealParameter('stdev', 0.001, 0.005),\n",
    "                       RealParameter('delta', 0.93, 0.99)]\n",
    "\n",
    "# Assigning the model levers\n",
    "\n",
    "model.levers = [RealParameter(\"c1\", -2, 2),\n",
    "                RealParameter(\"c2\", -2, 2),\n",
    "                RealParameter(\"r1\", 0, 2),\n",
    "                RealParameter(\"r2\", 0, 2),\n",
    "                RealParameter(\"w1\", 0, 1)]\n",
    "\n",
    "# Deciding upon the outcomes\n",
    "model.outcomes = [ScalarOutcome('max_P', kind=ScalarOutcome.MINIMIZE, expected_range=(0,5)),\n",
    "                  ScalarOutcome('utility', kind=ScalarOutcome.MAXIMIZE, expected_range=(0,2)),\n",
    "                  ScalarOutcome('inertia', kind=ScalarOutcome.MAXIMIZE, expected_range=(0,1)),\n",
    "                  ScalarOutcome('reliability', kind=ScalarOutcome.MAXIMIZE, expected_range=(0,1))]"
   ],
   "metadata": {
    "collapsed": false,
    "ExecuteTime": {
     "end_time": "2024-05-31T16:51:56.168183400Z",
     "start_time": "2024-05-31T16:51:56.159121200Z"
    }
   }
  },
  {
   "cell_type": "code",
   "execution_count": 10,
   "outputs": [],
   "source": [
    "from ema_workbench import (perform_experiments, ema_logging, save_results, load_results)\n",
    "from ema_workbench.em_framework import samplers\n",
    "from ema_workbench.em_framework import util\n",
    "\n",
    "ema_logging.log_to_stderr(ema_logging.INFO)\n",
    "\n",
    "n_scenarios = 500\n",
    "n_policies = 4\n",
    "fn = './results/{} scenarios {} policies.tar.gz'.format(n_scenarios, n_policies)\n",
    "\n",
    "counter = util.Counter()\n",
    "policies = samplers.sample_levers(model, n_policies, sampler = samplers.MonteCarloSampler())\n",
    "scenarios = samplers.sample_uncertainties(model, n_scenarios, sampler=samplers.MonteCarloSampler())"
   ],
   "metadata": {
    "collapsed": false,
    "ExecuteTime": {
     "end_time": "2024-05-31T16:51:56.187484700Z",
     "start_time": "2024-05-31T16:51:56.171174700Z"
    }
   }
  },
  {
   "cell_type": "code",
   "execution_count": 11,
   "outputs": [
    {
     "name": "stderr",
     "output_type": "stream",
     "text": [
      "[MainProcess/INFO] pool started with 12 workers\n",
      "[MainProcess/INFO] performing 500 scenarios * 4 policies * 1 model(s) = 2000 experiments\n",
      "100%|█████████████████████████████████████| 2000/2000 [00:12<00:00, 163.70it/s]\n",
      "[MainProcess/INFO] experiments finished\n",
      "[MainProcess/INFO] terminating pool\n"
     ]
    },
    {
     "ename": "FileNotFoundError",
     "evalue": "[Errno 2] No such file or directory: 'C:\\\\Users\\\\31646\\\\Documents\\\\EPA MASTER\\\\Q4\\\\Model-Based Decision-Making\\\\MBDM-project\\\\Week 5-6 - robustness and direct search\\\\results\\\\500 scenarios 4 policies.tar.gz'",
     "output_type": "error",
     "traceback": [
      "\u001B[1;31m---------------------------------------------------------------------------\u001B[0m",
      "\u001B[1;31mFileNotFoundError\u001B[0m                         Traceback (most recent call last)",
      "Cell \u001B[1;32mIn[11], line 3\u001B[0m\n\u001B[0;32m      1\u001B[0m \u001B[38;5;28;01mwith\u001B[39;00m MultiprocessingEvaluator(model) \u001B[38;5;28;01mas\u001B[39;00m evaluator:\n\u001B[0;32m      2\u001B[0m      results \u001B[38;5;241m=\u001B[39m evaluator\u001B[38;5;241m.\u001B[39mperform_experiments(scenarios, policies)\n\u001B[1;32m----> 3\u001B[0m save_results(results, fn)\n\u001B[0;32m      4\u001B[0m experiments, outcomes\u001B[38;5;241m=\u001B[39mresults\n",
      "File \u001B[1;32m~\\anaconda3\\Lib\\site-packages\\ema_workbench\\util\\utilities.py:213\u001B[0m, in \u001B[0;36msave_results\u001B[1;34m(results, file_name)\u001B[0m\n\u001B[0;32m    210\u001B[0m     tararchive\u001B[38;5;241m.\u001B[39maddfile(tarinfo, stream)\n\u001B[0;32m    212\u001B[0m experiments, outcomes \u001B[38;5;241m=\u001B[39m results\n\u001B[1;32m--> 213\u001B[0m \u001B[38;5;28;01mwith\u001B[39;00m tarfile\u001B[38;5;241m.\u001B[39mopen(file_name, \u001B[38;5;124m\"\u001B[39m\u001B[38;5;124mw:gz\u001B[39m\u001B[38;5;124m\"\u001B[39m) \u001B[38;5;28;01mas\u001B[39;00m z:\n\u001B[0;32m    214\u001B[0m     \u001B[38;5;66;03m# store experiments\u001B[39;00m\n\u001B[0;32m    215\u001B[0m     stream \u001B[38;5;241m=\u001B[39m BytesIO()\n\u001B[0;32m    216\u001B[0m     stream\u001B[38;5;241m.\u001B[39mwrite(experiments\u001B[38;5;241m.\u001B[39mto_csv(header\u001B[38;5;241m=\u001B[39m\u001B[38;5;28;01mTrue\u001B[39;00m, encoding\u001B[38;5;241m=\u001B[39m\u001B[38;5;124m\"\u001B[39m\u001B[38;5;124mUTF-8\u001B[39m\u001B[38;5;124m\"\u001B[39m, index\u001B[38;5;241m=\u001B[39m\u001B[38;5;28;01mFalse\u001B[39;00m)\u001B[38;5;241m.\u001B[39mencode())\n",
      "File \u001B[1;32m~\\anaconda3\\Lib\\tarfile.py:1824\u001B[0m, in \u001B[0;36mTarFile.open\u001B[1;34m(cls, name, mode, fileobj, bufsize, **kwargs)\u001B[0m\n\u001B[0;32m   1822\u001B[0m     \u001B[38;5;28;01melse\u001B[39;00m:\n\u001B[0;32m   1823\u001B[0m         \u001B[38;5;28;01mraise\u001B[39;00m CompressionError(\u001B[38;5;124m\"\u001B[39m\u001B[38;5;124munknown compression type \u001B[39m\u001B[38;5;132;01m%r\u001B[39;00m\u001B[38;5;124m\"\u001B[39m \u001B[38;5;241m%\u001B[39m comptype)\n\u001B[1;32m-> 1824\u001B[0m     \u001B[38;5;28;01mreturn\u001B[39;00m func(name, filemode, fileobj, \u001B[38;5;241m*\u001B[39m\u001B[38;5;241m*\u001B[39mkwargs)\n\u001B[0;32m   1826\u001B[0m \u001B[38;5;28;01melif\u001B[39;00m \u001B[38;5;124m\"\u001B[39m\u001B[38;5;124m|\u001B[39m\u001B[38;5;124m\"\u001B[39m \u001B[38;5;129;01min\u001B[39;00m mode:\n\u001B[0;32m   1827\u001B[0m     filemode, comptype \u001B[38;5;241m=\u001B[39m mode\u001B[38;5;241m.\u001B[39msplit(\u001B[38;5;124m\"\u001B[39m\u001B[38;5;124m|\u001B[39m\u001B[38;5;124m\"\u001B[39m, \u001B[38;5;241m1\u001B[39m)\n",
      "File \u001B[1;32m~\\anaconda3\\Lib\\tarfile.py:1870\u001B[0m, in \u001B[0;36mTarFile.gzopen\u001B[1;34m(cls, name, mode, fileobj, compresslevel, **kwargs)\u001B[0m\n\u001B[0;32m   1867\u001B[0m     \u001B[38;5;28;01mraise\u001B[39;00m CompressionError(\u001B[38;5;124m\"\u001B[39m\u001B[38;5;124mgzip module is not available\u001B[39m\u001B[38;5;124m\"\u001B[39m) \u001B[38;5;28;01mfrom\u001B[39;00m \u001B[38;5;28;01mNone\u001B[39;00m\n\u001B[0;32m   1869\u001B[0m \u001B[38;5;28;01mtry\u001B[39;00m:\n\u001B[1;32m-> 1870\u001B[0m     fileobj \u001B[38;5;241m=\u001B[39m GzipFile(name, mode \u001B[38;5;241m+\u001B[39m \u001B[38;5;124m\"\u001B[39m\u001B[38;5;124mb\u001B[39m\u001B[38;5;124m\"\u001B[39m, compresslevel, fileobj)\n\u001B[0;32m   1871\u001B[0m \u001B[38;5;28;01mexcept\u001B[39;00m \u001B[38;5;167;01mOSError\u001B[39;00m \u001B[38;5;28;01mas\u001B[39;00m e:\n\u001B[0;32m   1872\u001B[0m     \u001B[38;5;28;01mif\u001B[39;00m fileobj \u001B[38;5;129;01mis\u001B[39;00m \u001B[38;5;129;01mnot\u001B[39;00m \u001B[38;5;28;01mNone\u001B[39;00m \u001B[38;5;129;01mand\u001B[39;00m mode \u001B[38;5;241m==\u001B[39m \u001B[38;5;124m'\u001B[39m\u001B[38;5;124mr\u001B[39m\u001B[38;5;124m'\u001B[39m:\n",
      "File \u001B[1;32m~\\anaconda3\\Lib\\gzip.py:174\u001B[0m, in \u001B[0;36mGzipFile.__init__\u001B[1;34m(self, filename, mode, compresslevel, fileobj, mtime)\u001B[0m\n\u001B[0;32m    172\u001B[0m     mode \u001B[38;5;241m+\u001B[39m\u001B[38;5;241m=\u001B[39m \u001B[38;5;124m'\u001B[39m\u001B[38;5;124mb\u001B[39m\u001B[38;5;124m'\u001B[39m\n\u001B[0;32m    173\u001B[0m \u001B[38;5;28;01mif\u001B[39;00m fileobj \u001B[38;5;129;01mis\u001B[39;00m \u001B[38;5;28;01mNone\u001B[39;00m:\n\u001B[1;32m--> 174\u001B[0m     fileobj \u001B[38;5;241m=\u001B[39m \u001B[38;5;28mself\u001B[39m\u001B[38;5;241m.\u001B[39mmyfileobj \u001B[38;5;241m=\u001B[39m builtins\u001B[38;5;241m.\u001B[39mopen(filename, mode \u001B[38;5;129;01mor\u001B[39;00m \u001B[38;5;124m'\u001B[39m\u001B[38;5;124mrb\u001B[39m\u001B[38;5;124m'\u001B[39m)\n\u001B[0;32m    175\u001B[0m \u001B[38;5;28;01mif\u001B[39;00m filename \u001B[38;5;129;01mis\u001B[39;00m \u001B[38;5;28;01mNone\u001B[39;00m:\n\u001B[0;32m    176\u001B[0m     filename \u001B[38;5;241m=\u001B[39m \u001B[38;5;28mgetattr\u001B[39m(fileobj, \u001B[38;5;124m'\u001B[39m\u001B[38;5;124mname\u001B[39m\u001B[38;5;124m'\u001B[39m, \u001B[38;5;124m'\u001B[39m\u001B[38;5;124m'\u001B[39m)\n",
      "\u001B[1;31mFileNotFoundError\u001B[0m: [Errno 2] No such file or directory: 'C:\\\\Users\\\\31646\\\\Documents\\\\EPA MASTER\\\\Q4\\\\Model-Based Decision-Making\\\\MBDM-project\\\\Week 5-6 - robustness and direct search\\\\results\\\\500 scenarios 4 policies.tar.gz'"
     ]
    }
   ],
   "source": [
    "with MultiprocessingEvaluator(model) as evaluator:\n",
    "     results = evaluator.perform_experiments(scenarios, policies)\n",
    "save_results(results, fn)\n",
    "experiments, outcomes=results"
   ],
   "metadata": {
    "collapsed": false,
    "ExecuteTime": {
     "end_time": "2024-05-31T16:52:12.460905300Z",
     "start_time": "2024-05-31T16:51:56.181503400Z"
    }
   }
  },
  {
   "cell_type": "code",
   "execution_count": null,
   "outputs": [],
   "source": [
    "policies_t = experiments['policy']\n",
    "for i, policy in enumerate(np.unique(policies_t)):\n",
    "    experiments.loc[policies_t==policy, 'policy'] = str(i)\n",
    "\n",
    "data = pd.DataFrame(outcomes)\n",
    "data['policy'] = policies_t\n"
   ],
   "metadata": {
    "collapsed": false,
    "ExecuteTime": {
     "start_time": "2024-05-31T16:52:12.456881800Z"
    }
   }
  },
  {
   "cell_type": "markdown",
   "metadata": {},
   "source": [
    "## Searching for candidate solutions\n",
    "Set up the robust optimization problem using the robustness functions you have specified. Assume that you will need 50 scenarios for estimating the robustness. This assumption is at odds with the results from the previous step (i.e., we would need 200 scenarios), but this is to save on compute time. Solve the optimization problem and check for convergence. As $\\epsilon$ values, you can assume 0.05 for each of the four robustness metrics.\n",
    "\n",
    "*note: this optimization problem is computationally very expensive. Develop and test your code using a sequential evaluator, a low number of function evaluations (e.g., 200), and a low number of scenarios (e.g., 5). Once everything seems to be working replace the sequential evaluator with an multiprocessing or ipyparallel evaluator, and increase the number of nfe and scenarios*."
   ]
  },
  {
   "cell_type": "code",
   "execution_count": null,
   "metadata": {
    "ExecuteTime": {
     "start_time": "2024-05-31T16:52:12.457878600Z"
    }
   },
   "outputs": [],
   "source": []
  },
  {
   "cell_type": "markdown",
   "metadata": {},
   "source": [
    "**Plot your $\\epsilon$-progress to evaluate convergergence, and visualize the trade-offs using parallel coordinate plots**"
   ]
  },
  {
   "cell_type": "code",
   "execution_count": 33,
   "metadata": {
    "collapsed": true,
    "jupyter": {
     "outputs_hidden": true
    }
   },
   "outputs": [],
   "source": []
  },
  {
   "cell_type": "markdown",
   "metadata": {},
   "source": [
    "**What does this plot tell us about the tradeoffs and conflicting objectives?**"
   ]
  },
  {
   "cell_type": "markdown",
   "metadata": {},
   "source": [
    "## Re-evaluate candidate solutions under uncertainty\n",
    "\n",
    "We have used only 50 scenarios for the optimization. Take the results and re-evaluate them over a larger set (assume 1000 scenarios). How different are your results? What does this imply for the assumption of 50 scenarios during robust optimization.\n",
    "\n",
    "*hint: use the to_dict method on a dataframe, next generate Policy objects in a list expression by iterating over the dicts returned by the to_dict method*"
   ]
  },
  {
   "cell_type": "code",
   "execution_count": null,
   "metadata": {
    "collapsed": true,
    "jupyter": {
     "outputs_hidden": true
    }
   },
   "outputs": [],
   "source": []
  },
  {
   "cell_type": "markdown",
   "metadata": {},
   "source": [
    "## Comparison\n",
    "If you have time, import your solutions found for MORDM and re-evaluate them over the same set of scnearios as used for re-evaluating the MORO results. Compare the robustness of MORDM and MORO, what do you observe?"
   ]
  },
  {
   "cell_type": "code",
   "execution_count": null,
   "metadata": {},
   "outputs": [],
   "source": []
  }
 ],
 "metadata": {
  "anaconda-cloud": {},
  "kernelspec": {
   "display_name": "Python 3 (ipykernel)",
   "language": "python",
   "name": "python3"
  },
  "language_info": {
   "codemirror_mode": {
    "name": "ipython",
    "version": 3
   },
   "file_extension": ".py",
   "mimetype": "text/x-python",
   "name": "python",
   "nbconvert_exporter": "python",
   "pygments_lexer": "ipython3",
   "version": "3.9.16"
  },
  "latex_envs": {
   "LaTeX_envs_menu_present": true,
   "autocomplete": true,
   "bibliofile": "biblio.bib",
   "cite_by": "apalike",
   "current_citInitial": 1,
   "eqLabelWithNumbers": true,
   "eqNumInitial": 1,
   "hotkeys": {
    "equation": "Ctrl-E",
    "itemize": "Ctrl-I"
   },
   "labels_anchors": false,
   "latex_user_defs": false,
   "report_style_numbering": false,
   "user_envs_cfg": false
  }
 },
 "nbformat": 4,
 "nbformat_minor": 4
}
