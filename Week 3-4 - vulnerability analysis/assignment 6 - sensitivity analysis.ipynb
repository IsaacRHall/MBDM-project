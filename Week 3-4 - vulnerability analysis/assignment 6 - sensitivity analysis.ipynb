{
 "cells": [
  {
   "cell_type": "markdown",
   "metadata": {},
   "source": [
    "# Week 3 - Sensitivity analysis\n",
    "\n",
    "This exercise uses the same predator-prey model we used for the multi-model exercise, focusing on the Python version. As with the other exercise, define a model object for the function below, with the uncertainty ranges provided:\n",
    "\n",
    "|Parameter\t|Range or value\t        |\n",
    "|-----------|--------------:|\n",
    "|prey_birth_rate    \t|0.015 – 0.035\t|\n",
    "|predation_rate|0.0005 – 0.003 \t|\n",
    "|predator_efficiency     \t|0.001 – 0.004\t    |\n",
    "|predator_loss_rate\t    |0.04 – 0.08\t    |"
   ]
  },
  {
   "cell_type": "code",
   "execution_count": 1,
   "metadata": {
    "collapsed": false,
    "ExecuteTime": {
     "end_time": "2024-05-20T13:25:27.508671300Z",
     "start_time": "2024-05-20T13:25:25.912835700Z"
    }
   },
   "outputs": [],
   "source": [
    "import numpy as np\n",
    "import matplotlib.pyplot as plt\n",
    "\n",
    "from ema_workbench import (Model, RealParameter, TimeSeriesOutcome, perform_experiments, ema_logging, MultiprocessingEvaluator)\n",
    "\n",
    "from ema_workbench import Samplers\n",
    "\n",
    "from ema_workbench.analysis import feature_scoring\n",
    "from ema_workbench.analysis.scenario_discovery_util import RuleInductionType\n",
    "from ema_workbench.em_framework.salib_samplers import get_SALib_problem\n",
    "from SALib.analyze import sobol"
   ]
  },
  {
   "cell_type": "code",
   "execution_count": 2,
   "outputs": [],
   "source": [
    "def pred_prey(prey_birth_rate=0.025, predation_rate=0.0015, predator_efficiency=0.002,\n",
    "             predator_loss_rate=0.06, initial_prey=50, initial_predators=20, dt=0.25,\n",
    "             final_time=365, reps=1):\n",
    "\n",
    "    #Initial values\n",
    "    predators = np.zeros((reps, int(final_time/dt)+1))\n",
    "    prey = np.zeros((reps, int(final_time/dt)+1))\n",
    "    sim_time = np.zeros((reps, int(final_time/dt)+1))\n",
    "\n",
    "    for r in range(reps):\n",
    "\n",
    "        predators[r,0] = initial_predators\n",
    "        prey[r,0] = initial_prey\n",
    "\n",
    "    #Calculate the time series\n",
    "    for t in range(0, sim_time.shape[1]-1):\n",
    "\n",
    "        dx = (prey_birth_rate*prey[r,t]) - (predation_rate*prey[r,t]*predators[r,t])\n",
    "        dy = (predator_efficiency*predators[r,t]*prey[r,t]) - (predator_loss_rate*predators[r,t])\n",
    "\n",
    "        prey[r,t+1] = max(prey[r,t] + dx*dt, 0)\n",
    "        predators[r,t+1] = max(predators[r,t] + dy*dt, 0)\n",
    "        sim_time[r,t+1] = (t+1)*dt\n",
    "\n",
    "    #Return outcomes\n",
    "    return {'TIME':sim_time,\n",
    "            'predators':predators,\n",
    "            'prey':prey}"
   ],
   "metadata": {
    "collapsed": false,
    "ExecuteTime": {
     "end_time": "2024-05-20T13:25:27.516346900Z",
     "start_time": "2024-05-20T13:25:27.509672500Z"
    }
   }
  },
  {
   "cell_type": "code",
   "outputs": [
    {
     "name": "stdout",
     "output_type": "stream",
     "text": [
      "Time Array: [[0.0000e+00 2.5000e-01 5.0000e-01 ... 3.6450e+02 3.6475e+02 3.6500e+02]]\n",
      "Predators Array: [[20.         20.2        20.40136875 ... 37.69187459 37.72581658\n",
      "  37.75505957]]\n",
      "Prey Array: [[50.         49.9375     49.87133281 ... 31.8010242  31.55029052\n",
      "  31.30113215]]\n"
     ]
    }
   ],
   "source": [
    "# Run the pred_prey function with default parameters\n",
    "results = pred_prey()\n",
    "\n",
    "# Output the results to check correctness\n",
    "print(\"Time Array:\", results['TIME'])\n",
    "print(\"Predators Array:\", results['predators'])\n",
    "print(\"Prey Array:\", results['prey'])"
   ],
   "metadata": {
    "collapsed": false,
    "ExecuteTime": {
     "end_time": "2024-05-20T13:25:27.536074400Z",
     "start_time": "2024-05-20T13:25:27.518438600Z"
    }
   },
   "execution_count": 3
  },
  {
   "cell_type": "markdown",
   "source": [
    "#### 1. Sensitivity analysis\n",
    "Sensitivity analysis often focuses on the final values of an outcome at the end of the simulation. However, we can also look at metrics that give us additional information about the behavior of the model over time. Using [the statsmodel library](https://www.statsmodels.org/stable/index.html) and an appropriate sampling design, fit a linear regression model for each of the following indicators. What can we conclude about the behavior of the model, and about the importance of the different inputs?\n",
    "\n",
    "  * The final values of the _prey_ outcome\n",
    "  * The mean values of the _prey_ outcome over time, within each experiment\n",
    "  * The standard deviations of the _prey_ outcome over time, within each experiment"
   ],
   "metadata": {
    "collapsed": false
   }
  },
  {
   "cell_type": "code",
   "execution_count": 4,
   "metadata": {
    "ExecuteTime": {
     "end_time": "2024-05-20T13:25:27.546587700Z",
     "start_time": "2024-05-20T13:25:27.534072400Z"
    }
   },
   "outputs": [],
   "source": [
    "# Set up logging for EMA workbench (optional but helpful for debugging)\n",
    "ema_logging.log_to_stderr(ema_logging.INFO)\n",
    "\n",
    "# Create a Python model\n",
    "model = Model('PredPreyPython', function=pred_prey)\n",
    "\n",
    "model.run_length = 365\n",
    "\n",
    "model.uncertainties = [\n",
    "    RealParameter('prey_birth_rate', 0.015, 0.035),\n",
    "    RealParameter('predation_rate', 0.0005, 0.003),\n",
    "    RealParameter('predator_efficiency', 0.001, 0.004),\n",
    "    RealParameter('predator_loss_rate', 0.04, 0.08)\n",
    "]\n",
    "model.outcomes = [\n",
    "    TimeSeriesOutcome('TIME'),\n",
    "    TimeSeriesOutcome('predators'),\n",
    "    TimeSeriesOutcome('prey')\n",
    "]\n",
    "\n",
    "# model.outcomes = [TimeSeriesOutcome('predators'),\n",
    "#                   TimeSeriesOutcome('prey')]"
   ]
  },
  {
   "cell_type": "code",
   "outputs": [
    {
     "name": "stderr",
     "output_type": "stream",
     "text": [
      "[MainProcess/INFO] performing 1000 scenarios * 1 policies * 1 model(s) = 1000 experiments\n",
      "  0%|                                                 | 0/1000 [00:00<?, ?it/s][MainProcess/INFO] performing experiments sequentially\n",
      "100%|█████████████████████████████████████| 1000/1000 [00:02<00:00, 363.05it/s]\n",
      "[MainProcess/INFO] experiments finished\n"
     ]
    }
   ],
   "source": [
    "from ema_workbench import SequentialEvaluator\n",
    "from ema_workbench.em_framework.samplers import LHSSampler  # Correct import statement for LHSSampler\n",
    "\n",
    "with SequentialEvaluator(model) as evaluator:\n",
    "    experiments_python, outcomes_python = evaluator.perform_experiments(scenarios=1000, uncertainty_sampling=LHSSampler())"
   ],
   "metadata": {
    "collapsed": false,
    "ExecuteTime": {
     "end_time": "2024-05-20T13:25:30.313726800Z",
     "start_time": "2024-05-20T13:25:27.540594400Z"
    }
   },
   "execution_count": 5
  },
  {
   "cell_type": "code",
   "outputs": [
    {
     "name": "stdout",
     "output_type": "stream",
     "text": [
      "Shape of final values array: (1000,)\n",
      "Shape of mean values array: (1000,)\n",
      "Shape of standard deviations array: (1000,)\n"
     ]
    }
   ],
   "source": [
    "# Extract the data for 'prey' for simplification, assuming it has a shape like (scenarios, 1, time_steps)\n",
    "prey_data = outcomes_python['prey'].squeeze()  # This removes any singleton dimensions, simplifying (1000, 1, 1461) to (1000, 1461)\n",
    "\n",
    "# Now calculate the desired metrics\n",
    "final_values_prey = prey_data[:, -1]  # Final value at the last timestep\n",
    "mean_values_prey = np.mean(prey_data, axis=1)  # Mean over all timesteps\n",
    "std_dev_values_prey = np.std(prey_data, axis=1)  # Standard deviation over all timesteps\n",
    "\n",
    "# Check shapes to ensure they are now correct (should be (1000,))\n",
    "print(\"Shape of final values array:\", final_values_prey.shape)\n",
    "print(\"Shape of mean values array:\", mean_values_prey.shape)\n",
    "print(\"Shape of standard deviations array:\", std_dev_values_prey.shape)"
   ],
   "metadata": {
    "collapsed": false,
    "ExecuteTime": {
     "end_time": "2024-05-20T13:25:30.326567700Z",
     "start_time": "2024-05-20T13:25:30.312291400Z"
    }
   },
   "execution_count": 6
  },
  {
   "cell_type": "code",
   "outputs": [
    {
     "name": "stdout",
     "output_type": "stream",
     "text": [
      "Regression Model for Final Values of Prey:\n",
      "                            OLS Regression Results                            \n",
      "==============================================================================\n",
      "Dep. Variable:                      y   R-squared:                       0.423\n",
      "Model:                            OLS   Adj. R-squared:                  0.420\n",
      "Method:                 Least Squares   F-statistic:                     182.1\n",
      "Date:                Mon, 20 May 2024   Prob (F-statistic):          4.38e-117\n",
      "Time:                        15:25:30   Log-Likelihood:                -4173.9\n",
      "No. Observations:                1000   AIC:                             8358.\n",
      "Df Residuals:                     995   BIC:                             8382.\n",
      "Df Model:                           4                                         \n",
      "Covariance Type:            nonrobust                                         \n",
      "=======================================================================================\n",
      "                          coef    std err          t      P>|t|      [0.025      0.975]\n",
      "---------------------------------------------------------------------------------------\n",
      "const                  37.2080      3.776      9.854      0.000      29.798      44.618\n",
      "prey_birth_rate        82.4874     86.534      0.953      0.341     -87.322     252.297\n",
      "predation_rate       -831.4829    692.220     -1.201      0.230   -2189.861     526.895\n",
      "predator_efficiency -1.455e+04    576.120    -25.254      0.000   -1.57e+04   -1.34e+04\n",
      "predator_loss_rate    430.0706     43.225      9.949      0.000     345.247     514.894\n",
      "==============================================================================\n",
      "Omnibus:                      119.507   Durbin-Watson:                   1.980\n",
      "Prob(Omnibus):                  0.000   Jarque-Bera (JB):              162.255\n",
      "Skew:                           0.927   Prob(JB):                     5.85e-36\n",
      "Kurtosis:                       3.675   Cond. No.                     1.39e+03\n",
      "==============================================================================\n",
      "\n",
      "Notes:\n",
      "[1] Standard Errors assume that the covariance matrix of the errors is correctly specified.\n",
      "[2] The condition number is large, 1.39e+03. This might indicate that there are\n",
      "strong multicollinearity or other numerical problems.\n"
     ]
    }
   ],
   "source": [
    "import statsmodels.api as sm\n",
    "\n",
    "# Prepare the predictors, adding a constant for the intercept\n",
    "X = sm.add_constant(experiments_python[['prey_birth_rate', 'predation_rate', 'predator_efficiency', 'predator_loss_rate']])\n",
    "\n",
    "# Fit the regression models\n",
    "model_final_values = sm.OLS(final_values_prey, X).fit()\n",
    "model_mean_values = sm.OLS(mean_values_prey, X).fit()\n",
    "model_std_dev_values = sm.OLS(std_dev_values_prey, X).fit()\n",
    "\n",
    "# Print the regression summaries to understand the impact of parameters\n",
    "print(\"Regression Model for Final Values of Prey:\")\n",
    "print(model_final_values.summary())"
   ],
   "metadata": {
    "collapsed": false,
    "ExecuteTime": {
     "end_time": "2024-05-20T13:25:30.342314800Z",
     "start_time": "2024-05-20T13:25:30.324557700Z"
    }
   },
   "execution_count": 7
  },
  {
   "cell_type": "markdown",
   "source": [],
   "metadata": {
    "collapsed": false
   }
  },
  {
   "cell_type": "code",
   "outputs": [
    {
     "name": "stdout",
     "output_type": "stream",
     "text": [
      "\n",
      "Regression Model for Mean Values of Prey:\n",
      "                            OLS Regression Results                            \n",
      "==============================================================================\n",
      "Dep. Variable:                      y   R-squared:                       0.869\n",
      "Model:                            OLS   Adj. R-squared:                  0.868\n",
      "Method:                 Least Squares   F-statistic:                     1650.\n",
      "Date:                Mon, 20 May 2024   Prob (F-statistic):               0.00\n",
      "Time:                        15:25:30   Log-Likelihood:                -2959.5\n",
      "No. Observations:                1000   AIC:                             5929.\n",
      "Df Residuals:                     995   BIC:                             5953.\n",
      "Df Model:                           4                                         \n",
      "Covariance Type:            nonrobust                                         \n",
      "=======================================================================================\n",
      "                          coef    std err          t      P>|t|      [0.025      0.975]\n",
      "---------------------------------------------------------------------------------------\n",
      "const                  27.2329      1.121     24.293      0.000      25.033      29.433\n",
      "prey_birth_rate       138.4009     25.690      5.387      0.000      87.989     188.813\n",
      "predation_rate       -579.7454    205.502     -2.821      0.005    -983.012    -176.479\n",
      "predator_efficiency -1.248e+04    171.035    -72.994      0.000   -1.28e+04   -1.21e+04\n",
      "predator_loss_rate    468.8519     12.833     36.536      0.000     443.670     494.034\n",
      "==============================================================================\n",
      "Omnibus:                      269.550   Durbin-Watson:                   1.952\n",
      "Prob(Omnibus):                  0.000   Jarque-Bera (JB):              656.755\n",
      "Skew:                           1.430   Prob(JB):                    2.44e-143\n",
      "Kurtosis:                       5.753   Cond. No.                     1.39e+03\n",
      "==============================================================================\n",
      "\n",
      "Notes:\n",
      "[1] Standard Errors assume that the covariance matrix of the errors is correctly specified.\n",
      "[2] The condition number is large, 1.39e+03. This might indicate that there are\n",
      "strong multicollinearity or other numerical problems.\n"
     ]
    }
   ],
   "source": [
    "print(\"\\nRegression Model for Mean Values of Prey:\")\n",
    "print(model_mean_values.summary())"
   ],
   "metadata": {
    "collapsed": false,
    "ExecuteTime": {
     "end_time": "2024-05-20T13:25:30.350990600Z",
     "start_time": "2024-05-20T13:25:30.341318900Z"
    }
   },
   "execution_count": 8
  },
  {
   "cell_type": "code",
   "outputs": [
    {
     "name": "stdout",
     "output_type": "stream",
     "text": [
      "\n",
      "Regression Model for Standard Deviations of Prey:\n",
      "                            OLS Regression Results                            \n",
      "==============================================================================\n",
      "Dep. Variable:                      y   R-squared:                       0.102\n",
      "Model:                            OLS   Adj. R-squared:                  0.099\n",
      "Method:                 Least Squares   F-statistic:                     28.41\n",
      "Date:                Mon, 20 May 2024   Prob (F-statistic):           2.24e-22\n",
      "Time:                        15:25:30   Log-Likelihood:                -2626.3\n",
      "No. Observations:                1000   AIC:                             5263.\n",
      "Df Residuals:                     995   BIC:                             5287.\n",
      "Df Model:                           4                                         \n",
      "Covariance Type:            nonrobust                                         \n",
      "=======================================================================================\n",
      "                          coef    std err          t      P>|t|      [0.025      0.975]\n",
      "---------------------------------------------------------------------------------------\n",
      "const                  13.2671      0.803     16.515      0.000      11.691      14.844\n",
      "prey_birth_rate       -43.0374     18.410     -2.338      0.020     -79.164      -6.911\n",
      "predation_rate       1354.0398    147.269      9.194      0.000    1065.047    1643.033\n",
      "predator_efficiency   596.4671    122.569      4.866      0.000     355.944     836.990\n",
      "predator_loss_rate    -23.1058      9.196     -2.513      0.012     -41.152      -5.060\n",
      "==============================================================================\n",
      "Omnibus:                      276.853   Durbin-Watson:                   1.972\n",
      "Prob(Omnibus):                  0.000   Jarque-Bera (JB):             2215.275\n",
      "Skew:                           1.037   Prob(JB):                         0.00\n",
      "Kurtosis:                       9.990   Cond. No.                     1.39e+03\n",
      "==============================================================================\n",
      "\n",
      "Notes:\n",
      "[1] Standard Errors assume that the covariance matrix of the errors is correctly specified.\n",
      "[2] The condition number is large, 1.39e+03. This might indicate that there are\n",
      "strong multicollinearity or other numerical problems.\n"
     ]
    }
   ],
   "source": [
    "print(\"\\nRegression Model for Standard Deviations of Prey:\")\n",
    "print(model_std_dev_values.summary())"
   ],
   "metadata": {
    "collapsed": false,
    "ExecuteTime": {
     "end_time": "2024-05-20T13:25:30.366374500Z",
     "start_time": "2024-05-20T13:25:30.349989900Z"
    }
   },
   "execution_count": 9
  },
  {
   "cell_type": "markdown",
   "source": [
    "#### 2. SOBOL\n",
    "Use the Sobol sampling functionality included in the Workbench to perform experiments with a sample size of N=50, then analyze the results with SALib for the same three indicators. This requires specifying the keyword argument `'uncertainty_sampling'` of perform_experiments. Note that when using Sobol sampling, the meaning of the keyword argument `scenarios` changes a bit. In order to properly estimate Sobol scores as well as interaction effects, you require N * (2D+2) scenarios, where D is the number of uncertain parameters, and N is the value for scenarios passed to `perform_experiments`. Repeat the analysis for larger sample sizes, with N=250 and N=1000. How can we interpret the first-order and total indices? Are these sample sizes sufficient for a stable estimation of the indices? You'll need to use the [get_SALib_problem](https://emaworkbench.readthedocs.io/en/latest/ema_documentation/em_framework/salib_samplers.html) function to convert your Workbench experiments to a problem definition that you can pass to the SALib analysis function.\n",
    "\n",
    "*hint*: sobol is a deterministic sequence of quasi random numbers. Thus, you can run with N=1000 and simply use slicing to get the results for N=50 and N=250."
   ],
   "metadata": {
    "collapsed": false
   }
  },
  {
   "cell_type": "code",
   "outputs": [
    {
     "name": "stderr",
     "output_type": "stream",
     "text": [
      "C:\\Users\\jaspe\\PycharmProjects\\MBDM assignments\\MBDM-project\\.venv\\Lib\\site-packages\\scipy\\stats\\_qmc.py:958: UserWarning: The balance properties of Sobol' points require n to be a power of 2.\n",
      "  sample = self._random(n, workers=workers)\n",
      "[MainProcess/INFO] performing 100000 scenarios * 1 policies * 1 model(s) = 100000 experiments\n",
      "  0%|                                               | 0/100000 [00:00<?, ?it/s][MainProcess/INFO] performing experiments sequentially\n",
      "100%|█████████████████████████████████| 100000/100000 [04:46<00:00, 348.79it/s]\n",
      "[MainProcess/INFO] experiments finished\n"
     ]
    }
   ],
   "source": [
    "from ema_workbench.em_framework.salib_samplers import get_SALib_problem\n",
    "from SALib.analyze import sobol\n",
    "\n",
    "# Function to run Sobol experiments\n",
    "def run_sobol_experiments(N):\n",
    "    D = len(model.uncertainties)\n",
    "    scenarios = N * (2 * D + 2)\n",
    "    \n",
    "    with SequentialEvaluator(model) as evaluator:\n",
    "        experiments, outcomes = evaluator.perform_experiments(scenarios=scenarios, uncertainty_sampling=Samplers.SOBOL)\n",
    "    \n",
    "    return experiments, outcomes\n",
    "\n",
    "# Run experiments for N=1000\n",
    "experiments_1000, outcomes_1000 = run_sobol_experiments(1000)"
   ],
   "metadata": {
    "collapsed": false,
    "ExecuteTime": {
     "end_time": "2024-05-20T13:30:17.305591Z",
     "start_time": "2024-05-20T13:25:30.363378400Z"
    }
   },
   "execution_count": 10
  },
  {
   "cell_type": "code",
   "outputs": [],
   "source": [
    "# Slice for N=50 and N=250\n",
    "def slice_experiments_outcomes(experiments, outcomes, N):\n",
    "    slice_size = N * (2 * len(model.uncertainties) + 2)\n",
    "    experiments_sliced = experiments[:slice_size]\n",
    "    outcomes_sliced = {key: value[:slice_size] for key, value in outcomes.items()}\n",
    "    return experiments_sliced, outcomes_sliced\n",
    "\n",
    "experiments_50, outcomes_50 = slice_experiments_outcomes(experiments_1000, outcomes_1000, 50)\n",
    "experiments_250, outcomes_250 = slice_experiments_outcomes(experiments_1000, outcomes_1000, 250)"
   ],
   "metadata": {
    "collapsed": false,
    "ExecuteTime": {
     "end_time": "2024-05-20T13:30:17.312416100Z",
     "start_time": "2024-05-20T13:30:17.306589900Z"
    }
   },
   "execution_count": 11
  },
  {
   "cell_type": "code",
   "outputs": [],
   "source": [
    "# Define the problem\n",
    "problem = get_SALib_problem(model.uncertainties)\n",
    "\n",
    "def sobol_analysis(outcomes, problem, metric):\n",
    "    Y = outcomes[metric].squeeze()\n",
    "    final_values = Y[:, -1]\n",
    "    mean_values = np.mean(Y, axis=1)\n",
    "    std_dev_values = np.std(Y, axis=1)\n",
    "    \n",
    "    # Perform Sobol analysis\n",
    "    Si_final = sobol.analyze(problem, final_values, calc_second_order=True, print_to_console=False)\n",
    "    Si_mean = sobol.analyze(problem, mean_values, calc_second_order=True, print_to_console=False)\n",
    "    Si_std_dev = sobol.analyze(problem, std_dev_values, calc_second_order=True, print_to_console=False)\n",
    "    \n",
    "    return Si_final, Si_mean, Si_std_dev"
   ],
   "metadata": {
    "collapsed": false,
    "ExecuteTime": {
     "end_time": "2024-05-20T13:34:18.934451200Z",
     "start_time": "2024-05-20T13:34:18.929445Z"
    }
   },
   "execution_count": 18
  },
  {
   "cell_type": "code",
   "outputs": [
    {
     "name": "stdout",
     "output_type": "stream",
     "text": [
      "Sobol Analysis for Final Values (N=50):\n",
      "{'S1': array([0.05220518, 0.56035257, 0.02188268, 0.00655341]), 'S1_conf': array([0.12709617, 0.39661697, 0.18306741, 0.25653695]), 'ST': array([0.14614875, 0.95647045, 0.38603494, 0.44595818]), 'ST_conf': array([0.09689093, 0.26924982, 0.19836593, 0.24907419]), 'S2': array([[        nan, -0.1201632 , -0.03041184, -0.04988314],\n",
      "       [        nan,         nan, -0.13030598, -0.2651851 ],\n",
      "       [        nan,         nan,         nan,  0.23579459],\n",
      "       [        nan,         nan,         nan,         nan]]), 'S2_conf': array([[       nan, 0.17313335, 0.18605707, 0.17297322],\n",
      "       [       nan,        nan, 0.35776004, 0.41417717],\n",
      "       [       nan,        nan,        nan, 0.3050637 ],\n",
      "       [       nan,        nan,        nan,        nan]])}\n",
      "Sobol Analysis for Mean Values (N=50):\n",
      "{'S1': array([-0.00638818,  0.93998318,  0.13446003, -0.00465011]), 'S1_conf': array([0.02192071, 0.40160394, 0.18549571, 0.05210269]), 'ST': array([0.00546641, 0.98443185, 0.25243548, 0.01253349]), 'ST_conf': array([0.00348229, 0.3992016 , 0.11901844, 0.00624078]), 'S2': array([[        nan, -0.0023719 ,  0.01225247,  0.00330509],\n",
      "       [        nan,         nan, -0.03542412,  0.00214873],\n",
      "       [        nan,         nan,         nan,  0.13558415],\n",
      "       [        nan,         nan,         nan,         nan]]), 'S2_conf': array([[       nan, 0.10389794, 0.03181287, 0.03469287],\n",
      "       [       nan,        nan, 0.54992846, 0.52851292],\n",
      "       [       nan,        nan,        nan, 0.22168645],\n",
      "       [       nan,        nan,        nan,        nan]])}\n",
      "Sobol Analysis for Standard Deviations (N=50):\n",
      "{'S1': array([ 0.0579821 , -0.62077591,  0.06462935, -0.0775109 ]), 'S1_conf': array([0.45093886, 0.94457872, 0.21210868, 0.25240554]), 'ST': array([0.76300889, 1.45268854, 0.47401065, 0.36742068]), 'ST_conf': array([0.58091095, 1.28924402, 0.5532182 , 0.29821549]), 'S2': array([[        nan,  1.94557292,  0.2006063 ,  0.53406943],\n",
      "       [        nan,         nan,  1.60703472,  0.67537341],\n",
      "       [        nan,         nan,         nan, -0.22728378],\n",
      "       [        nan,         nan,         nan,         nan]]), 'S2_conf': array([[       nan, 2.0818009 , 0.25637958, 0.39842654],\n",
      "       [       nan,        nan, 1.07623213, 1.11972673],\n",
      "       [       nan,        nan,        nan, 0.45101666],\n",
      "       [       nan,        nan,        nan,        nan]])}\n"
     ]
    },
    {
     "name": "stderr",
     "output_type": "stream",
     "text": [
      "C:\\Users\\jaspe\\PycharmProjects\\MBDM assignments\\MBDM-project\\.venv\\Lib\\site-packages\\SALib\\util\\__init__.py:274: FutureWarning: unique with argument that is not not a Series, Index, ExtensionArray, or np.ndarray is deprecated and will raise in a future version.\n",
      "  names = list(pd.unique(groups))\n"
     ]
    }
   ],
   "source": [
    "# Analyze for N=50\n",
    "Si_final_50, Si_mean_50, Si_std_dev_50 = sobol_analysis(outcomes_50, problem, 'prey')\n",
    "\n",
    "print(\"Sobol Analysis for Final Values (N=50):\")\n",
    "print(Si_final_50)\n",
    "\n",
    "print(\"Sobol Analysis for Mean Values (N=50):\")\n",
    "print(Si_mean_50)\n",
    "\n",
    "print(\"Sobol Analysis for Standard Deviations (N=50):\")\n",
    "print(Si_std_dev_50)"
   ],
   "metadata": {
    "collapsed": false,
    "ExecuteTime": {
     "end_time": "2024-05-20T13:34:43.742849900Z",
     "start_time": "2024-05-20T13:34:43.718239900Z"
    }
   },
   "execution_count": 19
  },
  {
   "cell_type": "code",
   "outputs": [
    {
     "name": "stdout",
     "output_type": "stream",
     "text": [
      "Sobol Analysis for Final Values (N=250):\n",
      "{'S1': array([-0.00670834,  0.37945839,  0.09436046, -0.05839143]), 'S1_conf': array([0.04880689, 0.15973888, 0.13823322, 0.13021505]), 'ST': array([0.1184057 , 0.87372632, 0.58398332, 0.59127296]), 'ST_conf': array([0.04457543, 0.14126763, 0.12118959, 0.13152509]), 'S2': array([[        nan,  0.00602749, -0.00275181, -0.01990888],\n",
      "       [        nan,         nan,  0.07402459,  0.09353167],\n",
      "       [        nan,         nan,         nan,  0.13659631],\n",
      "       [        nan,         nan,         nan,         nan]]), 'S2_conf': array([[       nan, 0.07883205, 0.06781806, 0.06664825],\n",
      "       [       nan,        nan, 0.19443899, 0.24346169],\n",
      "       [       nan,        nan,        nan, 0.21439527],\n",
      "       [       nan,        nan,        nan,        nan]])}\n",
      "Sobol Analysis for Mean Values (N=250):\n",
      "{'S1': array([0.00497281, 0.78131609, 0.18147821, 0.00874752]), 'S1_conf': array([0.01236705, 0.16185225, 0.07990147, 0.01808464]), 'ST': array([0.005885  , 0.80875695, 0.21860247, 0.01108644]), 'ST_conf': array([0.00235666, 0.15071571, 0.04990906, 0.00266338]), 'S2': array([[        nan, -0.00803361,  0.00078296,  0.00070313],\n",
      "       [        nan,         nan,  0.00686595, -0.01400596],\n",
      "       [        nan,         nan,         nan, -0.00954418],\n",
      "       [        nan,         nan,         nan,         nan]]), 'S2_conf': array([[       nan, 0.02976892, 0.01447791, 0.01382444],\n",
      "       [       nan,        nan, 0.22872803, 0.20336832],\n",
      "       [       nan,        nan,        nan, 0.13160522],\n",
      "       [       nan,        nan,        nan,        nan]])}\n",
      "Sobol Analysis for Standard Deviations (N=250):\n",
      "{'S1': array([ 0.12529447, -0.10681851,  0.00919073, -0.01268954]), 'S1_conf': array([0.13351939, 0.23939895, 0.09980347, 0.09022162]), 'ST': array([0.84080591, 0.6821936 , 0.30207875, 0.41557677]), 'ST_conf': array([0.28043608, 0.26121932, 0.1264585 , 0.17893838]), 'S2': array([[       nan, 0.46588138, 0.06461347, 0.1974114 ],\n",
      "       [       nan,        nan, 0.30586708, 0.13163087],\n",
      "       [       nan,        nan,        nan, 0.02098567],\n",
      "       [       nan,        nan,        nan,        nan]]), 'S2_conf': array([[       nan, 0.46326807, 0.13963829, 0.15528797],\n",
      "       [       nan,        nan, 0.32838553, 0.32577683],\n",
      "       [       nan,        nan,        nan, 0.1404788 ],\n",
      "       [       nan,        nan,        nan,        nan]])}\n"
     ]
    },
    {
     "name": "stderr",
     "output_type": "stream",
     "text": [
      "C:\\Users\\jaspe\\PycharmProjects\\MBDM assignments\\MBDM-project\\.venv\\Lib\\site-packages\\SALib\\util\\__init__.py:274: FutureWarning: unique with argument that is not not a Series, Index, ExtensionArray, or np.ndarray is deprecated and will raise in a future version.\n",
      "  names = list(pd.unique(groups))\n"
     ]
    }
   ],
   "source": [
    "# Analyze for N=250\n",
    "Si_final_250, Si_mean_250, Si_std_dev_250 = sobol_analysis(outcomes_250, problem, 'prey')\n",
    "\n",
    "print(\"Sobol Analysis for Final Values (N=250):\")\n",
    "print(Si_final_250)\n",
    "\n",
    "print(\"Sobol Analysis for Mean Values (N=250):\")\n",
    "print(Si_mean_250)\n",
    "\n",
    "print(\"Sobol Analysis for Standard Deviations (N=250):\")\n",
    "print(Si_std_dev_250)"
   ],
   "metadata": {
    "collapsed": false,
    "ExecuteTime": {
     "end_time": "2024-05-20T13:34:59.696441700Z",
     "start_time": "2024-05-20T13:34:59.641831800Z"
    }
   },
   "execution_count": 20
  },
  {
   "cell_type": "code",
   "outputs": [
    {
     "name": "stderr",
     "output_type": "stream",
     "text": [
      "C:\\Users\\jaspe\\PycharmProjects\\MBDM assignments\\MBDM-project\\.venv\\Lib\\site-packages\\SALib\\util\\__init__.py:274: FutureWarning: unique with argument that is not not a Series, Index, ExtensionArray, or np.ndarray is deprecated and will raise in a future version.\n",
      "  names = list(pd.unique(groups))\n"
     ]
    },
    {
     "name": "stdout",
     "output_type": "stream",
     "text": [
      "Sobol Analysis for Final Values (N=1000):\n",
      "{'S1': array([0.00040551, 0.36561104, 0.06781177, 0.01817731]), 'S1_conf': array([0.01056799, 0.02410411, 0.01956881, 0.02154838]), 'ST': array([0.13325698, 0.81891056, 0.61520979, 0.54244437]), 'ST_conf': array([0.00851212, 0.02500168, 0.02211154, 0.01783769]), 'S2': array([[        nan,  0.00914185,  0.00570301, -0.00300418],\n",
      "       [        nan,         nan,  0.01481345,  0.00139853],\n",
      "       [        nan,         nan,         nan,  0.06564466],\n",
      "       [        nan,         nan,         nan,         nan]]), 'S2_conf': array([[       nan, 0.01753344, 0.01527092, 0.01423849],\n",
      "       [       nan,        nan, 0.03202529, 0.03669952],\n",
      "       [       nan,        nan,        nan, 0.02947426],\n",
      "       [       nan,        nan,        nan,        nan]])}\n",
      "Sobol Analysis for Mean Values (N=1000):\n",
      "{'S1': array([0.00275554, 0.7740632 , 0.17894101, 0.00189723]), 'S1_conf': array([0.00196838, 0.02764567, 0.01151922, 0.00258503]), 'ST': array([0.00507536, 0.81338843, 0.21853016, 0.01126861]), 'ST_conf': array([0.00024458, 0.02156868, 0.00765663, 0.00045149]), 'S2': array([[       nan, 0.00077712, 0.00070344, 0.00026608],\n",
      "       [       nan,        nan, 0.03131034, 0.00230425],\n",
      "       [       nan,        nan,        nan, 0.00219266],\n",
      "       [       nan,        nan,        nan,        nan]]), 'S2_conf': array([[       nan, 0.00450722, 0.00287745, 0.0027543 ],\n",
      "       [       nan,        nan, 0.04257587, 0.03416017],\n",
      "       [       nan,        nan,        nan, 0.01798958],\n",
      "       [       nan,        nan,        nan,        nan]])}\n",
      "Sobol Analysis for Standard Deviations (N=1000):\n",
      "{'S1': array([0.20301986, 0.08974346, 0.00794335, 0.00578814]), 'S1_conf': array([0.02148287, 0.03166046, 0.01468948, 0.0144237 ]), 'ST': array([0.69012144, 0.64414151, 0.24772139, 0.30297404]), 'ST_conf': array([0.04018076, 0.02860877, 0.01600861, 0.01615134]), 'S2': array([[       nan, 0.21361659, 0.00583811, 0.11854103],\n",
      "       [       nan,        nan, 0.17639365, 0.01228931],\n",
      "       [       nan,        nan,        nan, 0.00326344],\n",
      "       [       nan,        nan,        nan,        nan]]), 'S2_conf': array([[       nan, 0.04248853, 0.02841876, 0.02792116],\n",
      "       [       nan,        nan, 0.05551997, 0.0425178 ],\n",
      "       [       nan,        nan,        nan, 0.02138944],\n",
      "       [       nan,        nan,        nan,        nan]])}\n"
     ]
    }
   ],
   "source": [
    "# Analyze for N=1000\n",
    "Si_final_1000, Si_mean_1000, Si_std_dev_1000 = sobol_analysis(outcomes_1000, problem, 'prey')\n",
    "\n",
    "print(\"Sobol Analysis for Final Values (N=1000):\")\n",
    "print(Si_final_1000)\n",
    "\n",
    "print(\"Sobol Analysis for Mean Values (N=1000):\")\n",
    "print(Si_mean_1000)\n",
    "\n",
    "print(\"Sobol Analysis for Standard Deviations (N=1000):\")\n",
    "print(Si_std_dev_1000)"
   ],
   "metadata": {
    "collapsed": false,
    "ExecuteTime": {
     "end_time": "2024-05-20T14:04:38.060572700Z",
     "start_time": "2024-05-20T14:04:34.938312Z"
    }
   },
   "execution_count": 29
  },
  {
   "cell_type": "markdown",
   "source": [
    "# Conclusion Based on Last Output Cell\n",
    "- Predation Rate is the most influential parameter, both independently and through interactions, affecting the final prey population.\n",
    "- Predator Efficiency and Predator Loss Rate also have significant effects, mainly through interactions.\n",
    "- Prey Birth Rate has a minimal independent effect but contributes through interactions.\n",
    "- The interaction between Predator Efficiency and Predator Loss Rate is the most notable second-order effect."
   ],
   "metadata": {
    "collapsed": false
   }
  },
  {
   "cell_type": "markdown",
   "source": [
    "#### 3. Extra trees\n",
    "Use the [Extra-Trees analysis](https://emaworkbench.readthedocs.io/en/latest/ema_documentation/analysis/feature_scoring.html) included in the Workbench to approximate the Sobol total indices, with a suitable sampling design. As a starting point, use an ensemble of 100 trees and a max_features parameter of 0.6, and set the analysis to regression mode. Are the estimated importances stable relative to the sample size and the analysis parameters? How do the results compare to the Sobol indices? For more details on this analysis see [Jaxa-Rozen & Kwakkel (2018)](https://www.sciencedirect.com/science/article/pii/S1364815217311581)"
   ],
   "metadata": {
    "collapsed": false
   }
  },
  {
   "cell_type": "code",
   "outputs": [],
   "source": [],
   "metadata": {
    "collapsed": false
   }
  }
 ],
 "metadata": {
  "kernelspec": {
   "display_name": "Python 3",
   "language": "python",
   "name": "python3"
  },
  "language_info": {
   "codemirror_mode": {
    "name": "ipython",
    "version": 3
   },
   "file_extension": ".py",
   "mimetype": "text/x-python",
   "name": "python",
   "nbconvert_exporter": "python",
   "pygments_lexer": "ipython3",
   "version": "3.7.3"
  }
 },
 "nbformat": 4,
 "nbformat_minor": 2
}
