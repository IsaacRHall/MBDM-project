{
 "cells": [
  {
   "cell_type": "markdown",
   "metadata": {},
   "source": [
    "# Lake model continued - sensitivity analysis\n",
    "\n",
    "In the previous week you used the lake problem as a means of getting acquainted with the workbench. In this assignment we will continue with the lake problem, focussing explicitly on using it for open exploration. You can use the second part of the [open exploration tutorial](https://emaworkbench.readthedocs.io/en/latest/indepth_tutorial/open-exploration.html) for help.\n",
    "\n",
    "**It is paramount that you are using the lake problem with 100 decision variables, rather than the one found on the website with the separate anthropogenic release decision**\n",
    "\n",
    "There is substantial support in the ema_workbench for global sensitivity. For this, the workbench relies on [SALib](https://salib.readthedocs.io/en/latest/) and feature scoring which is a machine learning alternative for global sensitivity analysis."
   ]
  },
  {
   "cell_type": "markdown",
   "source": [
    "## 1. SOBOL\n",
    "1. Apply Sobol with 3 separate release policies (0, 0.05, and 0.1) and analyse the results for each release policy separately focusing on the reliability objective. Do the sensitivities change depending on the release policy? Can you explain why or why not?\n",
    "\n",
    "*hint: you can use sobol sampling for the uncertainties, and set policies to a list with the 3 different release policies. Next, for the analysis using logical indexing on the experiment.policy column you can select the results for each separate release policy and apply sobol to each of the three separate release policies. If this sounds too complicated, just do it on each release policy separately.*"
   ],
   "metadata": {
    "collapsed": false
   }
  },
  {
   "cell_type": "code",
   "execution_count": 6,
   "outputs": [],
   "source": [
    "from ema_workbench import Samplers\n",
    "import numpy as np\n",
    "import matplotlib.pyplot as plt\n",
    "\n",
    "from ema_workbench import (Model, RealParameter, TimeSeriesOutcome, ScalarOutcome, perform_experiments, Constant, ema_logging, MultiprocessingEvaluator)\n",
    "\n",
    "from ema_workbench import Samplers\n",
    "\n",
    "from ema_workbench.analysis import feature_scoring\n",
    "from ema_workbench.analysis.scenario_discovery_util import RuleInductionType\n",
    "from ema_workbench.em_framework.salib_samplers import get_SALib_problem\n",
    "from SALib.analyze import sobol\n",
    "\n",
    "# Import the lake model function from the specific Python file\n",
    "from lakemodel_function import lake_problem"
   ],
   "metadata": {
    "collapsed": false,
    "ExecuteTime": {
     "end_time": "2024-05-20T14:17:42.925273500Z",
     "start_time": "2024-05-20T14:17:42.922375100Z"
    }
   }
  },
  {
   "cell_type": "code",
   "execution_count": 8,
   "outputs": [],
   "source": [
    "# Set up EMA Workbench logging\n",
    "ema_logging.log_to_stderr(ema_logging.INFO)\n",
    "\n",
    "# Create a model instance\n",
    "model = Model('lakeproblem', function=lake_problem)\n",
    "\n",
    "# Define uncertainties directly within the model\n",
    "model.uncertainties = [\n",
    "    RealParameter(\"mean\", 0.01, 0.05),\n",
    "    RealParameter(\"stdev\", 0.001, 0.005),\n",
    "    RealParameter(\"b\", 0.1, 0.45),\n",
    "    RealParameter(\"q\", 2, 4.5),\n",
    "    RealParameter(\"delta\", 0.93, 0.99)\n",
    "]\n",
    "\n",
    "# Define outcomes\n",
    "model.outcomes = [\n",
    "    ScalarOutcome('max_P'),\n",
    "    ScalarOutcome('utility'),\n",
    "    ScalarOutcome('inertia'),\n",
    "    ScalarOutcome('reliability')\n",
    "]"
   ],
   "metadata": {
    "collapsed": false,
    "ExecuteTime": {
     "end_time": "2024-05-20T14:25:57.892794800Z",
     "start_time": "2024-05-20T14:25:57.882729400Z"
    }
   }
  },
  {
   "cell_type": "code",
   "outputs": [
    {
     "name": "stderr",
     "output_type": "stream",
     "text": [
      "[MainProcess/INFO] pool started with 20 workers\n",
      "[MainProcess/INFO] performing 1000 scenarios * 1 policies * 1 model(s) = 1000 experiments\n",
      "100%|█████████████████████████████████████| 1000/1000 [00:02<00:00, 356.90it/s]\n",
      "[MainProcess/INFO] experiments finished\n",
      "[MainProcess/INFO] performing 1000 scenarios * 1 policies * 1 model(s) = 1000 experiments\n",
      "100%|████████████████████████████████████| 1000/1000 [00:00<00:00, 1566.15it/s]\n",
      "[MainProcess/INFO] experiments finished\n",
      "[MainProcess/INFO] performing 1000 scenarios * 1 policies * 1 model(s) = 1000 experiments\n",
      "100%|████████████████████████████████████| 1000/1000 [00:00<00:00, 2076.04it/s]\n",
      "[MainProcess/INFO] experiments finished\n",
      "[MainProcess/INFO] terminating pool\n"
     ]
    }
   ],
   "source": [
    "from ema_workbench import Policy\n",
    "\n",
    "# Define release policies along with decision levers\n",
    "release_policies = {\n",
    "    \"Release Policy 0\": {f'l{i}': 0 for i in range(100)},\n",
    "    \"Release Policy 0.05\": {f'l{i}': 0.05 for i in range(100)},\n",
    "    \"Release Policy 0.1\": {f'l{i}': 0.1 for i in range(100)}\n",
    "}\n",
    "\n",
    "# Run Sobol experiments for each release policy separately\n",
    "with MultiprocessingEvaluator(model) as evaluator:\n",
    "    experiments = []\n",
    "    outcomes = []\n",
    "    \n",
    "    for policy_name, policy_levers in release_policies.items():\n",
    "        policy = Policy(policy_name, **policy_levers)\n",
    "        exp, out = evaluator.perform_experiments(scenarios=1000, policies=[policy])\n",
    "        experiments.append(exp)\n",
    "        outcomes.append(out)"
   ],
   "metadata": {
    "collapsed": false,
    "ExecuteTime": {
     "end_time": "2024-05-20T14:26:11.475198600Z",
     "start_time": "2024-05-20T14:26:05.170751900Z"
    }
   },
   "execution_count": 9
  },
  {
   "cell_type": "code",
   "outputs": [
    {
     "name": "stdout",
     "output_type": "stream",
     "text": [
      "Running Sobol analysis for Release Policy 0...\n"
     ]
    },
    {
     "ename": "AttributeError",
     "evalue": "module 'ema_workbench.analysis.feature_scoring' has no attribute 'get_SALib_sobol_indices'",
     "output_type": "error",
     "traceback": [
      "\u001B[1;31m---------------------------------------------------------------------------\u001B[0m",
      "\u001B[1;31mAttributeError\u001B[0m                            Traceback (most recent call last)",
      "Cell \u001B[1;32mIn[11], line 6\u001B[0m\n\u001B[0;32m      4\u001B[0m \u001B[38;5;28;01mfor\u001B[39;00m i, (policy_name, out) \u001B[38;5;129;01min\u001B[39;00m \u001B[38;5;28menumerate\u001B[39m(\u001B[38;5;28mzip\u001B[39m(release_policies\u001B[38;5;241m.\u001B[39mkeys(), outcomes)):\n\u001B[0;32m      5\u001B[0m     \u001B[38;5;28mprint\u001B[39m(\u001B[38;5;124mf\u001B[39m\u001B[38;5;124m\"\u001B[39m\u001B[38;5;124mRunning Sobol analysis for \u001B[39m\u001B[38;5;132;01m{\u001B[39;00mpolicy_name\u001B[38;5;132;01m}\u001B[39;00m\u001B[38;5;124m...\u001B[39m\u001B[38;5;124m\"\u001B[39m)\n\u001B[1;32m----> 6\u001B[0m     sobol_indices \u001B[38;5;241m=\u001B[39m \u001B[43mfeature_scoring\u001B[49m\u001B[38;5;241;43m.\u001B[39;49m\u001B[43mget_SALib_sobol_indices\u001B[49m(model, out, \n\u001B[0;32m      7\u001B[0m                                                             alg_name\u001B[38;5;241m=\u001B[39m\u001B[38;5;124m'\u001B[39m\u001B[38;5;124mSobol\u001B[39m\u001B[38;5;124m'\u001B[39m, \n\u001B[0;32m      8\u001B[0m                                                             nr_resamples\u001B[38;5;241m=\u001B[39m\u001B[38;5;241m100\u001B[39m)\n\u001B[0;32m      9\u001B[0m     \u001B[38;5;66;03m# Print the Sobol indices for reliability outcome\u001B[39;00m\n\u001B[0;32m     10\u001B[0m     \u001B[38;5;28mprint\u001B[39m(\u001B[38;5;124mf\u001B[39m\u001B[38;5;124m\"\u001B[39m\u001B[38;5;124mSobol indices for reliability (Policy \u001B[39m\u001B[38;5;132;01m{\u001B[39;00mi\u001B[38;5;241m+\u001B[39m\u001B[38;5;241m1\u001B[39m\u001B[38;5;132;01m}\u001B[39;00m\u001B[38;5;124m): \u001B[39m\u001B[38;5;132;01m{\u001B[39;00msobol_indices[\u001B[38;5;124m'\u001B[39m\u001B[38;5;124mreliability\u001B[39m\u001B[38;5;124m'\u001B[39m]\u001B[38;5;132;01m}\u001B[39;00m\u001B[38;5;124m\"\u001B[39m)\n",
      "\u001B[1;31mAttributeError\u001B[0m: module 'ema_workbench.analysis.feature_scoring' has no attribute 'get_SALib_sobol_indices'"
     ]
    }
   ],
   "source": [
    "from ema_workbench.analysis import feature_scoring\n",
    "\n",
    "# Perform Sobol sensitivity analysis for each release policy separately\n",
    "for i, (policy_name, out) in enumerate(zip(release_policies.keys(), outcomes)):\n",
    "    print(f\"Running Sobol analysis for {policy_name}...\")\n",
    "    sobol_indices = feature_scoring.get_SALib_sobol_indices(model, out, \n",
    "                                                            alg_name='Sobol', \n",
    "                                                            nr_resamples=100)\n",
    "    # Print the Sobol indices for reliability outcome\n",
    "    print(f\"Sobol indices for reliability (Policy {i+1}): {sobol_indices['reliability']}\")"
   ],
   "metadata": {
    "collapsed": false,
    "ExecuteTime": {
     "end_time": "2024-05-20T14:27:20.153004900Z",
     "start_time": "2024-05-20T14:27:20.150339700Z"
    }
   },
   "execution_count": 11
  },
  {
   "cell_type": "markdown",
   "metadata": {},
   "source": [
    "## 2. Feature scoring\n",
    "Repeat the above analysis for the 3 release policies but now with extra trees [feature scoring](https://emaworkbench.readthedocs.io/en/latest/ema_documentation/analysis/feature_scoring.html) and for all outcomes of interest. As a bonus, use the sobol experiment results as input for extra trees, and compare the results with those resulting from latin hypercube sampling.\n",
    "\n",
    "*hint: you can use [seaborn heatmaps](https://seaborn.pydata.org/generated/seaborn.heatmap.html) for a nice figure of the results. See also the [features scoring](https://emaworkbench.readthedocs.io/en/latest/indepth_tutorial/open-exploration.html#feature-scoring) section of the tutorial.*\n"
   ]
  },
  {
   "cell_type": "code",
   "execution_count": null,
   "outputs": [],
   "source": [],
   "metadata": {
    "collapsed": false,
    "ExecuteTime": {
     "start_time": "2023-04-20T08:49:14.503673Z",
     "end_time": "2023-04-20T08:49:14.520173Z"
    }
   }
  }
 ],
 "metadata": {
  "kernelspec": {
   "display_name": "Python 3",
   "language": "python",
   "name": "python3"
  },
  "language_info": {
   "codemirror_mode": {
    "name": "ipython",
    "version": 3
   },
   "file_extension": ".py",
   "mimetype": "text/x-python",
   "name": "python",
   "nbconvert_exporter": "python",
   "pygments_lexer": "ipython3",
   "version": "3.8.5"
  }
 },
 "nbformat": 4,
 "nbformat_minor": 4
}
