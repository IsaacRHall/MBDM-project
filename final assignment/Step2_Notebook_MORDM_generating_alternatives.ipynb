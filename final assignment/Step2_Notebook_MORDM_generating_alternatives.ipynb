{
 "cells": [
  {
   "cell_type": "markdown",
   "source": [
    "# 3. Directed search: MORDM Generating alternatives\n",
    "\n",
    "In this file the MOEA optimization algorithm is used to search through the lever space of the model in order to find promising policies (candidate strategies) to reach the defined objectives. \n",
    "\n",
    "??\n",
    "The objectives are defined in problem_formulation.py and all aim to minimize the specified outcomes. \n",
    "\n",
    "??\n",
    "The reference scenario is defined based on the open exploration and represents a \"worst-case\" scenario. This scenario, as explained in the first part of this notebook, is used by the MOEA algorithm to find candidate solutions in the 2_MORDM_MOEA file.\n",
    "\n",
    "This notebook has the following structure:\n",
    "1. Determining reference scenario\n",
    "2. Importing generated files\n",
    "2. Assessing convergence of the algorithm\n",
    "3. Parallel coordinate plot of original results\n",
    "4. Selecting policies of interest\n",
    "5. Parallel coordinate plot of policies of interest\n",
    "\n",
    "Description of this notebook can be found in chapter ??? of the report."
   ],
   "metadata": {
    "collapsed": false
   },
   "id": "6089651f49830fe5"
  }
 ],
 "metadata": {
  "kernelspec": {
   "display_name": "Python 3",
   "language": "python",
   "name": "python3"
  },
  "language_info": {
   "codemirror_mode": {
    "name": "ipython",
    "version": 2
   },
   "file_extension": ".py",
   "mimetype": "text/x-python",
   "name": "python",
   "nbconvert_exporter": "python",
   "pygments_lexer": "ipython2",
   "version": "2.7.6"
  }
 },
 "nbformat": 4,
 "nbformat_minor": 5
}
