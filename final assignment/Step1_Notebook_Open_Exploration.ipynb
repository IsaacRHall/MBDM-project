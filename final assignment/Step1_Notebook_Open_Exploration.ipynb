{
 "cells": [
  {
   "cell_type": "code",
   "execution_count": 2,
   "id": "initial_id",
   "metadata": {
    "collapsed": true,
    "ExecuteTime": {
     "end_time": "2024-05-28T09:58:49.594140800Z",
     "start_time": "2024-05-28T09:58:40.916983900Z"
    }
   },
   "outputs": [],
   "source": [
    "import os\n",
    "import random\n",
    "import numpy as np\n",
    "import pandas as pd\n",
    "import networkx as nx\n",
    "import matplotlib.pyplot as plt\n",
    "import seaborn as sns\n",
    "from ema_workbench import (\n",
    "    Model, \n",
    "    RealParameter, \n",
    "    ScalarOutcome, \n",
    "    TimeSeriesOutcome, \n",
    "    Constant, \n",
    "    Policy, \n",
    "    ema_logging, \n",
    "    perform_experiments, \n",
    "    MultiprocessingEvaluator, \n",
    "    Samplers\n",
    ")\n",
    "from ema_workbench.analysis import prim, feature_scoring\n",
    "from ema_workbench.analysis.scenario_discovery_util import RuleInductionType\n",
    "from ema_workbench.em_framework.salib_samplers import get_SALib_problem\n",
    "from SALib.analyze import sobol\n",
    "from problem_formulation import get_model_for_problem_formulation"
   ]
  },
  {
   "cell_type": "markdown",
   "source": [
    "# 1. Load the CSVs\n",
    "\n",
    "In `Step1_Simulate_Open_Exploration.py` we created six different CSV documents, we will now load them so we can use them for open exploration of the simulations. These six document form three pairs of experiments and outputs."
   ],
   "metadata": {
    "collapsed": false
   },
   "id": "f3f9708e58487049"
  },
  {
   "cell_type": "code",
   "outputs": [],
   "source": [
    "# Specify directory where CSVs are located\n",
    "input_dir = os.path.join('data', 'output_data')\n",
    "\n",
    "# Load the saved CSV files into variables\n",
    "random_experiments_df = pd.read_csv(os.path.join(input_dir, 'random_experiments.csv'))\n",
    "random_outcomes_df = pd.read_csv(os.path.join(input_dir, 'random_outcomes.csv'))\n",
    "sobol_experiments_df = pd.read_csv(os.path.join(input_dir, 'sobol_experiments.csv'))\n",
    "sobol_outcomes_df = pd.read_csv(os.path.join(input_dir, 'sobol_outcomes.csv'))\n",
    "no_policy_experiments_df = pd.read_csv(os.path.join(input_dir, 'no_policy_experiments.csv'))\n",
    "no_policy_outcomes_df = pd.read_csv(os.path.join(input_dir, 'no_policy_outcomes.csv'))"
   ],
   "metadata": {
    "collapsed": false,
    "ExecuteTime": {
     "end_time": "2024-05-28T10:04:54.616352500Z",
     "start_time": "2024-05-28T10:04:54.533125800Z"
    }
   },
   "id": "4e035b07ebecdcaa",
   "execution_count": 3
  },
  {
   "cell_type": "markdown",
   "source": [
    "Let us now clean up the files a little bit by removing the unnamed columns as these do not really add to the analysis of the outputs later on."
   ],
   "metadata": {
    "collapsed": false
   },
   "id": "9874b2c21e678e6"
  },
  {
   "cell_type": "code",
   "outputs": [],
   "source": [
    "# Load the saved CSV files into variables\n",
    "random_experiments_df = random_experiments_df.drop(columns='Unnamed: 0')\n",
    "random_outcomes_df = random_outcomes_df.drop(columns='Unnamed: 0')\n",
    "sobol_experiments_df = sobol_experiments_df.drop(columns='Unnamed: 0')\n",
    "sobol_outcomes_df = sobol_outcomes_df.drop(columns='Unnamed: 0')\n",
    "no_policy_experiments_df = no_policy_experiments_df.drop(columns='Unnamed: 0')\n",
    "no_policy_outcomes_df = no_policy_outcomes_df.drop(columns='Unnamed: 0')\n"
   ],
   "metadata": {
    "collapsed": false,
    "ExecuteTime": {
     "end_time": "2024-05-28T10:04:58.697560900Z",
     "start_time": "2024-05-28T10:04:58.686344800Z"
    }
   },
   "id": "1f4b678a81058737",
   "execution_count": 4
  },
  {
   "cell_type": "code",
   "outputs": [
    {
     "name": "stdout",
     "output_type": "stream",
     "text": [
      "     Expected Annual Damage  Dike Investment Costs  RfR Investment Costs  \\\n",
      "0              2.224141e+07           4.795277e+08          1.095700e+09   \n",
      "1              7.209649e+06           4.795277e+08          1.095700e+09   \n",
      "2              1.664912e+06           4.795277e+08          1.095700e+09   \n",
      "3              1.003845e+07           4.795277e+08          1.095700e+09   \n",
      "4              3.491239e+07           4.795277e+08          1.095700e+09   \n",
      "..                      ...                    ...                   ...   \n",
      "995            9.683139e+05           6.714279e+08          8.436000e+08   \n",
      "996            1.566712e+07           6.714279e+08          8.436000e+08   \n",
      "997            1.430574e+06           6.714279e+08          8.436000e+08   \n",
      "998            5.960427e+06           6.714279e+08          8.436000e+08   \n",
      "999            1.050783e+07           6.714279e+08          8.436000e+08   \n",
      "\n",
      "     Evacuation Costs  Expected Number of Deaths  policy  \n",
      "0         1471.804201                   0.000897       0  \n",
      "1          346.028640                   0.001006       0  \n",
      "2           96.212804                   0.000082       0  \n",
      "3         1339.906049                   0.000776       0  \n",
      "4         2636.919053                   0.008860       0  \n",
      "..                ...                        ...     ...  \n",
      "995         39.791869                   0.000452       9  \n",
      "996        326.966581                   0.003860       9  \n",
      "997         27.908323                   0.000382       9  \n",
      "998        188.285546                   0.001474       9  \n",
      "999        301.504338                   0.003029       9  \n",
      "\n",
      "[1000 rows x 6 columns]\n"
     ]
    }
   ],
   "source": [
    "print(random_outcomes_df)"
   ],
   "metadata": {
    "collapsed": false,
    "ExecuteTime": {
     "end_time": "2024-05-28T10:05:08.714119500Z",
     "start_time": "2024-05-28T10:05:08.705930900Z"
    }
   },
   "id": "9b033cbd78d0aab",
   "execution_count": 5
  },
  {
   "cell_type": "markdown",
   "source": [
    "# 2. No Policy Runs\n",
    "\n",
    "Let us start of by analyzing the scenarios where we have no policies implemented (we have a kind of basecase that remains the same), but where we change the uncertainties within the uncertainty space for 10,000 different combinations. \n",
    "We will look at this and do 5 things; visualizing the scenarios using a seaborn pairplot, feature scoring, dimensional stacking, PRIM,and sensitivity analysis."
   ],
   "metadata": {
    "collapsed": false
   },
   "id": "e08897136825f343"
  },
  {
   "cell_type": "markdown",
   "source": [
    "## 2.1. Pairplot"
   ],
   "metadata": {
    "collapsed": false
   },
   "id": "f7adc7b8a9c3c544"
  },
  {
   "cell_type": "code",
   "outputs": [],
   "source": [
    "# Create multi scatter plot for zero policy\n",
    "sns.pairplot(no_policy_outcomes_df)\n",
    "plt.show()"
   ],
   "metadata": {
    "collapsed": false
   },
   "id": "2c3953e81c93d82a"
  },
  {
   "cell_type": "markdown",
   "source": [
    "## 2.2. Feature Scoring"
   ],
   "metadata": {
    "collapsed": false
   },
   "id": "6c2318bcd14e629a"
  },
  {
   "cell_type": "code",
   "outputs": [],
   "source": [],
   "metadata": {
    "collapsed": false
   },
   "id": "84a9ed1e6b4eff"
  },
  {
   "cell_type": "markdown",
   "source": [
    "## 2.3. Dimensional Stacking"
   ],
   "metadata": {
    "collapsed": false
   },
   "id": "56fe6cc714a9f6e0"
  },
  {
   "cell_type": "code",
   "outputs": [],
   "source": [],
   "metadata": {
    "collapsed": false
   },
   "id": "5f89377912d8a39d"
  },
  {
   "cell_type": "markdown",
   "source": [
    "## 2.4. PRIM"
   ],
   "metadata": {
    "collapsed": false
   },
   "id": "feffe58108f3f752"
  },
  {
   "cell_type": "code",
   "outputs": [],
   "source": [],
   "metadata": {
    "collapsed": false
   },
   "id": "9c40c885cdf771ea"
  },
  {
   "cell_type": "markdown",
   "source": [
    "## 2.5. Sensitivity Analysis"
   ],
   "metadata": {
    "collapsed": false
   },
   "id": "f101417a7e45b72e"
  },
  {
   "cell_type": "code",
   "outputs": [],
   "source": [],
   "metadata": {
    "collapsed": false
   },
   "id": "84b36997d3f7643b"
  },
  {
   "cell_type": "markdown",
   "source": [
    "# 3. 200 Policy Runs --> Think about which policies (maybe the water board is not open to all policies (do they want RfR, or do they want higher dikes? or both not))\n",
    "\n",
    "We will now look at 200 different policies under 1,000 different scenarios to create insight into 200,000 potential futures. We will again apply the five different methods, that we used in step 2 above."
   ],
   "metadata": {
    "collapsed": false
   },
   "id": "19c816583a48fad0"
  },
  {
   "cell_type": "markdown",
   "source": [
    "## 3.1. Pairplot"
   ],
   "metadata": {
    "collapsed": false
   },
   "id": "1b4a0ed48d59e88d"
  },
  {
   "cell_type": "code",
   "outputs": [],
   "source": [
    "# Create multi scatter plot for zero policy\n",
    "sns.pairplot(random_outcomes_df, hue='policy')\n",
    "plt.show()"
   ],
   "metadata": {
    "collapsed": false
   },
   "id": "89aa85a67d2027ce"
  },
  {
   "cell_type": "markdown",
   "source": [],
   "metadata": {
    "collapsed": false
   },
   "id": "27d6b56cc74a9053"
  },
  {
   "cell_type": "code",
   "outputs": [],
   "source": [],
   "metadata": {
    "collapsed": false
   },
   "id": "1a44541877bb653"
  },
  {
   "cell_type": "markdown",
   "source": [],
   "metadata": {
    "collapsed": false
   },
   "id": "45a006535e0e6569"
  },
  {
   "cell_type": "markdown",
   "source": [],
   "metadata": {
    "collapsed": false
   },
   "id": "c3ab60bbaa8bd63b"
  },
  {
   "cell_type": "code",
   "outputs": [],
   "source": [],
   "metadata": {
    "collapsed": false
   },
   "id": "26b3c1f8a959d763"
  }
 ],
 "metadata": {
  "kernelspec": {
   "display_name": "Python 3",
   "language": "python",
   "name": "python3"
  },
  "language_info": {
   "codemirror_mode": {
    "name": "ipython",
    "version": 2
   },
   "file_extension": ".py",
   "mimetype": "text/x-python",
   "name": "python",
   "nbconvert_exporter": "python",
   "pygments_lexer": "ipython2",
   "version": "2.7.6"
  }
 },
 "nbformat": 4,
 "nbformat_minor": 5
}
